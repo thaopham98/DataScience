{
 "cells": [
  {
   "cell_type": "markdown",
   "metadata": {},
   "source": [
    "# Linear Regression Model\n",
    "\n",
    "The goal of this analysis is to compare different combinations of variables to determine which subset of predictors creates the **best model** for predicting `lpsa` or `psa`, an antigen which elevanted in the presense of prostate cancer, using the **ProstateData.csv** dataset.\n",
    "\n",
    "Table of Contenst:\n",
    "- Setup\n",
    "- Import Data\n",
    "- Explore Data Analysis (EDA)\n",
    "- Build Model\n",
    "- Evaluate Model\n",
    "- Model Equation"
   ]
  },
  {
   "cell_type": "markdown",
   "metadata": {},
   "source": [
    "## Setup"
   ]
  },
  {
   "cell_type": "code",
   "execution_count": 1,
   "metadata": {},
   "outputs": [],
   "source": [
    "import pandas as pd\n",
    "import numpy as np\n",
    "from sklearn.linear_model import LinearRegression\n",
    "from sklearn.preprocessing import StandardScaler\n",
    "from sklearn.metrics import root_mean_squared_error, r2_score\n",
    "from sklearn.feature_selection import RFE"
   ]
  },
  {
   "cell_type": "markdown",
   "metadata": {},
   "source": [
    "## Import Data"
   ]
  },
  {
   "cell_type": "code",
   "execution_count": 2,
   "metadata": {},
   "outputs": [],
   "source": [
    "df = pd.read_csv('../data/ProstateData.csv')"
   ]
  },
  {
   "cell_type": "markdown",
   "metadata": {},
   "source": [
    "## EDA"
   ]
  },
  {
   "cell_type": "code",
   "execution_count": 3,
   "metadata": {},
   "outputs": [
    {
     "name": "stdout",
     "output_type": "stream",
     "text": [
      "Shape:  (97, 10)\n",
      "Columns:  Index(['lcavol', 'lweight', 'age', 'lbph', 'svi', 'lcp', 'gleason', 'pgg45',\n",
      "       'lpsa', 'train'],\n",
      "      dtype='object')\n",
      "<class 'pandas.core.frame.DataFrame'>\n",
      "RangeIndex: 97 entries, 0 to 96\n",
      "Data columns (total 10 columns):\n",
      " #   Column   Non-Null Count  Dtype  \n",
      "---  ------   --------------  -----  \n",
      " 0   lcavol   97 non-null     float64\n",
      " 1   lweight  97 non-null     float64\n",
      " 2   age      97 non-null     int64  \n",
      " 3   lbph     97 non-null     float64\n",
      " 4   svi      97 non-null     int64  \n",
      " 5   lcp      97 non-null     float64\n",
      " 6   gleason  97 non-null     int64  \n",
      " 7   pgg45    97 non-null     int64  \n",
      " 8   lpsa     97 non-null     float64\n",
      " 9   train    97 non-null     object \n",
      "dtypes: float64(5), int64(4), object(1)\n",
      "memory usage: 7.7+ KB\n",
      "None\n",
      "          lcavol    lweight        age       lbph        svi        lcp  \\\n",
      "count  97.000000  97.000000  97.000000  97.000000  97.000000  97.000000   \n",
      "mean    1.350010   3.628943  63.865979   0.100356   0.216495  -0.179366   \n",
      "std     1.178625   0.428411   7.445117   1.450807   0.413995   1.398250   \n",
      "min    -1.347074   2.374906  41.000000  -1.386294   0.000000  -1.386294   \n",
      "25%     0.512824   3.375880  60.000000  -1.386294   0.000000  -1.386294   \n",
      "50%     1.446919   3.623007  65.000000   0.300105   0.000000  -0.798508   \n",
      "75%     2.127041   3.876396  68.000000   1.558145   0.000000   1.178655   \n",
      "max     3.821004   4.780383  79.000000   2.326302   1.000000   2.904165   \n",
      "\n",
      "         gleason       pgg45       lpsa  \n",
      "count  97.000000   97.000000  97.000000  \n",
      "mean    6.752577   24.381443   2.478387  \n",
      "std     0.722134   28.204035   1.154329  \n",
      "min     6.000000    0.000000  -0.430783  \n",
      "25%     6.000000    0.000000   1.731656  \n",
      "50%     7.000000   15.000000   2.591516  \n",
      "75%     7.000000   40.000000   3.056357  \n",
      "max     9.000000  100.000000   5.582932  \n"
     ]
    },
    {
     "data": {
      "text/html": [
       "<div>\n",
       "<style scoped>\n",
       "    .dataframe tbody tr th:only-of-type {\n",
       "        vertical-align: middle;\n",
       "    }\n",
       "\n",
       "    .dataframe tbody tr th {\n",
       "        vertical-align: top;\n",
       "    }\n",
       "\n",
       "    .dataframe thead th {\n",
       "        text-align: right;\n",
       "    }\n",
       "</style>\n",
       "<table border=\"1\" class=\"dataframe\">\n",
       "  <thead>\n",
       "    <tr style=\"text-align: right;\">\n",
       "      <th></th>\n",
       "      <th>lcavol</th>\n",
       "      <th>lweight</th>\n",
       "      <th>age</th>\n",
       "      <th>lbph</th>\n",
       "      <th>svi</th>\n",
       "      <th>lcp</th>\n",
       "      <th>gleason</th>\n",
       "      <th>pgg45</th>\n",
       "      <th>lpsa</th>\n",
       "      <th>train</th>\n",
       "    </tr>\n",
       "  </thead>\n",
       "  <tbody>\n",
       "    <tr>\n",
       "      <th>0</th>\n",
       "      <td>-0.579818</td>\n",
       "      <td>2.769459</td>\n",
       "      <td>50</td>\n",
       "      <td>-1.386294</td>\n",
       "      <td>0</td>\n",
       "      <td>-1.386294</td>\n",
       "      <td>6</td>\n",
       "      <td>0</td>\n",
       "      <td>-0.430783</td>\n",
       "      <td>T</td>\n",
       "    </tr>\n",
       "    <tr>\n",
       "      <th>1</th>\n",
       "      <td>-0.994252</td>\n",
       "      <td>3.319626</td>\n",
       "      <td>58</td>\n",
       "      <td>-1.386294</td>\n",
       "      <td>0</td>\n",
       "      <td>-1.386294</td>\n",
       "      <td>6</td>\n",
       "      <td>0</td>\n",
       "      <td>-0.162519</td>\n",
       "      <td>T</td>\n",
       "    </tr>\n",
       "    <tr>\n",
       "      <th>2</th>\n",
       "      <td>-0.510826</td>\n",
       "      <td>2.691243</td>\n",
       "      <td>74</td>\n",
       "      <td>-1.386294</td>\n",
       "      <td>0</td>\n",
       "      <td>-1.386294</td>\n",
       "      <td>7</td>\n",
       "      <td>20</td>\n",
       "      <td>-0.162519</td>\n",
       "      <td>T</td>\n",
       "    </tr>\n",
       "    <tr>\n",
       "      <th>3</th>\n",
       "      <td>-1.203973</td>\n",
       "      <td>3.282789</td>\n",
       "      <td>58</td>\n",
       "      <td>-1.386294</td>\n",
       "      <td>0</td>\n",
       "      <td>-1.386294</td>\n",
       "      <td>6</td>\n",
       "      <td>0</td>\n",
       "      <td>-0.162519</td>\n",
       "      <td>T</td>\n",
       "    </tr>\n",
       "    <tr>\n",
       "      <th>4</th>\n",
       "      <td>0.751416</td>\n",
       "      <td>3.432373</td>\n",
       "      <td>62</td>\n",
       "      <td>-1.386294</td>\n",
       "      <td>0</td>\n",
       "      <td>-1.386294</td>\n",
       "      <td>6</td>\n",
       "      <td>0</td>\n",
       "      <td>0.371564</td>\n",
       "      <td>T</td>\n",
       "    </tr>\n",
       "  </tbody>\n",
       "</table>\n",
       "</div>"
      ],
      "text/plain": [
       "     lcavol   lweight  age      lbph  svi       lcp  gleason  pgg45      lpsa  \\\n",
       "0 -0.579818  2.769459   50 -1.386294    0 -1.386294        6      0 -0.430783   \n",
       "1 -0.994252  3.319626   58 -1.386294    0 -1.386294        6      0 -0.162519   \n",
       "2 -0.510826  2.691243   74 -1.386294    0 -1.386294        7     20 -0.162519   \n",
       "3 -1.203973  3.282789   58 -1.386294    0 -1.386294        6      0 -0.162519   \n",
       "4  0.751416  3.432373   62 -1.386294    0 -1.386294        6      0  0.371564   \n",
       "\n",
       "  train  \n",
       "0     T  \n",
       "1     T  \n",
       "2     T  \n",
       "3     T  \n",
       "4     T  "
      ]
     },
     "execution_count": 3,
     "metadata": {},
     "output_type": "execute_result"
    }
   ],
   "source": [
    "print('Shape: ', df.shape)\n",
    "print('Columns: ', df.columns)\n",
    "print(df.info())\n",
    "print(df.describe())\n",
    "df.head()"
   ]
  },
  {
   "cell_type": "markdown",
   "metadata": {},
   "source": [
    "Columns of `df`:\n",
    "- **lcavol**: log(cancer volume)\n",
    "- **lweight**: log(prostate weight)\n",
    "- **age**: age\n",
    "- **lbph**: log(begining prostate hyperplasia amount)\n",
    "- **svi**: seminal vesicle invasion. This refers to a tumor infiltration orginating from external tumor cells. There are `0`s and `1`s to represent the 2 different types of **SVI**. \n",
    "- **lcp**: log(capsular penetration)\n",
    "- **gleason**: Gleason score\n",
    "- **pgg45**: percentage Gleason scores 4 or 5\n",
    "- **lpsa**: log(prostate specific antigen)\n",
    "- **train**: logical index used to differentiate train from test points. Consist of `T`s and `F`s."
   ]
  },
  {
   "cell_type": "markdown",
   "metadata": {},
   "source": [
    "## Split Data\n",
    "Since the `df` has already had `train` columns for training (`T`) and testing (`F`) data, no need to manually split `df` into training and testing sets. However, **features** and **target** variables are still needed to be separated into `X` and `y`.\n"
   ]
  },
  {
   "cell_type": "code",
   "execution_count": 4,
   "metadata": {},
   "outputs": [
    {
     "name": "stdout",
     "output_type": "stream",
     "text": [
      "Number of trained data: 67\n",
      "Number of tested data: 30\n"
     ]
    }
   ],
   "source": [
    "# Create training dataset\n",
    "trainD = df[df['train'] == 'T'].drop(columns=['train'])\n",
    "print(f'Number of trained data: {trainD.shape[0]}')\n",
    "# Create testing dataset\n",
    "testD = df[df['train'] == 'F'].drop(columns=['train'])\n",
    "print(f'Number of tested data: {testD.shape[0]}')"
   ]
  },
  {
   "cell_type": "code",
   "execution_count": 5,
   "metadata": {},
   "outputs": [
    {
     "data": {
      "text/html": [
       "<div>\n",
       "<style scoped>\n",
       "    .dataframe tbody tr th:only-of-type {\n",
       "        vertical-align: middle;\n",
       "    }\n",
       "\n",
       "    .dataframe tbody tr th {\n",
       "        vertical-align: top;\n",
       "    }\n",
       "\n",
       "    .dataframe thead th {\n",
       "        text-align: right;\n",
       "    }\n",
       "</style>\n",
       "<table border=\"1\" class=\"dataframe\">\n",
       "  <thead>\n",
       "    <tr style=\"text-align: right;\">\n",
       "      <th></th>\n",
       "      <th>lcavol</th>\n",
       "      <th>lweight</th>\n",
       "      <th>age</th>\n",
       "      <th>lbph</th>\n",
       "      <th>svi</th>\n",
       "      <th>lcp</th>\n",
       "      <th>gleason</th>\n",
       "      <th>pgg45</th>\n",
       "      <th>lpsa</th>\n",
       "    </tr>\n",
       "  </thead>\n",
       "  <tbody>\n",
       "    <tr>\n",
       "      <th>0</th>\n",
       "      <td>-0.579818</td>\n",
       "      <td>2.769459</td>\n",
       "      <td>50</td>\n",
       "      <td>-1.386294</td>\n",
       "      <td>0</td>\n",
       "      <td>-1.386294</td>\n",
       "      <td>6</td>\n",
       "      <td>0</td>\n",
       "      <td>-0.430783</td>\n",
       "    </tr>\n",
       "    <tr>\n",
       "      <th>1</th>\n",
       "      <td>-0.994252</td>\n",
       "      <td>3.319626</td>\n",
       "      <td>58</td>\n",
       "      <td>-1.386294</td>\n",
       "      <td>0</td>\n",
       "      <td>-1.386294</td>\n",
       "      <td>6</td>\n",
       "      <td>0</td>\n",
       "      <td>-0.162519</td>\n",
       "    </tr>\n",
       "    <tr>\n",
       "      <th>2</th>\n",
       "      <td>-0.510826</td>\n",
       "      <td>2.691243</td>\n",
       "      <td>74</td>\n",
       "      <td>-1.386294</td>\n",
       "      <td>0</td>\n",
       "      <td>-1.386294</td>\n",
       "      <td>7</td>\n",
       "      <td>20</td>\n",
       "      <td>-0.162519</td>\n",
       "    </tr>\n",
       "    <tr>\n",
       "      <th>3</th>\n",
       "      <td>-1.203973</td>\n",
       "      <td>3.282789</td>\n",
       "      <td>58</td>\n",
       "      <td>-1.386294</td>\n",
       "      <td>0</td>\n",
       "      <td>-1.386294</td>\n",
       "      <td>6</td>\n",
       "      <td>0</td>\n",
       "      <td>-0.162519</td>\n",
       "    </tr>\n",
       "    <tr>\n",
       "      <th>4</th>\n",
       "      <td>0.751416</td>\n",
       "      <td>3.432373</td>\n",
       "      <td>62</td>\n",
       "      <td>-1.386294</td>\n",
       "      <td>0</td>\n",
       "      <td>-1.386294</td>\n",
       "      <td>6</td>\n",
       "      <td>0</td>\n",
       "      <td>0.371564</td>\n",
       "    </tr>\n",
       "  </tbody>\n",
       "</table>\n",
       "</div>"
      ],
      "text/plain": [
       "     lcavol   lweight  age      lbph  svi       lcp  gleason  pgg45      lpsa\n",
       "0 -0.579818  2.769459   50 -1.386294    0 -1.386294        6      0 -0.430783\n",
       "1 -0.994252  3.319626   58 -1.386294    0 -1.386294        6      0 -0.162519\n",
       "2 -0.510826  2.691243   74 -1.386294    0 -1.386294        7     20 -0.162519\n",
       "3 -1.203973  3.282789   58 -1.386294    0 -1.386294        6      0 -0.162519\n",
       "4  0.751416  3.432373   62 -1.386294    0 -1.386294        6      0  0.371564"
      ]
     },
     "execution_count": 5,
     "metadata": {},
     "output_type": "execute_result"
    }
   ],
   "source": [
    "trainD.head()"
   ]
  },
  {
   "cell_type": "code",
   "execution_count": 6,
   "metadata": {},
   "outputs": [
    {
     "data": {
      "text/html": [
       "<div>\n",
       "<style scoped>\n",
       "    .dataframe tbody tr th:only-of-type {\n",
       "        vertical-align: middle;\n",
       "    }\n",
       "\n",
       "    .dataframe tbody tr th {\n",
       "        vertical-align: top;\n",
       "    }\n",
       "\n",
       "    .dataframe thead th {\n",
       "        text-align: right;\n",
       "    }\n",
       "</style>\n",
       "<table border=\"1\" class=\"dataframe\">\n",
       "  <thead>\n",
       "    <tr style=\"text-align: right;\">\n",
       "      <th></th>\n",
       "      <th>lcavol</th>\n",
       "      <th>lweight</th>\n",
       "      <th>age</th>\n",
       "      <th>lbph</th>\n",
       "      <th>svi</th>\n",
       "      <th>lcp</th>\n",
       "      <th>gleason</th>\n",
       "      <th>pgg45</th>\n",
       "      <th>lpsa</th>\n",
       "    </tr>\n",
       "  </thead>\n",
       "  <tbody>\n",
       "    <tr>\n",
       "      <th>6</th>\n",
       "      <td>0.737164</td>\n",
       "      <td>3.473518</td>\n",
       "      <td>64</td>\n",
       "      <td>0.615186</td>\n",
       "      <td>0</td>\n",
       "      <td>-1.386294</td>\n",
       "      <td>6</td>\n",
       "      <td>0</td>\n",
       "      <td>0.765468</td>\n",
       "    </tr>\n",
       "    <tr>\n",
       "      <th>8</th>\n",
       "      <td>-0.776529</td>\n",
       "      <td>3.539509</td>\n",
       "      <td>47</td>\n",
       "      <td>-1.386294</td>\n",
       "      <td>0</td>\n",
       "      <td>-1.386294</td>\n",
       "      <td>6</td>\n",
       "      <td>0</td>\n",
       "      <td>1.047319</td>\n",
       "    </tr>\n",
       "    <tr>\n",
       "      <th>9</th>\n",
       "      <td>0.223144</td>\n",
       "      <td>3.244544</td>\n",
       "      <td>63</td>\n",
       "      <td>-1.386294</td>\n",
       "      <td>0</td>\n",
       "      <td>-1.386294</td>\n",
       "      <td>6</td>\n",
       "      <td>0</td>\n",
       "      <td>1.047319</td>\n",
       "    </tr>\n",
       "    <tr>\n",
       "      <th>14</th>\n",
       "      <td>1.205971</td>\n",
       "      <td>3.442019</td>\n",
       "      <td>57</td>\n",
       "      <td>-1.386294</td>\n",
       "      <td>0</td>\n",
       "      <td>-0.430783</td>\n",
       "      <td>7</td>\n",
       "      <td>5</td>\n",
       "      <td>1.398717</td>\n",
       "    </tr>\n",
       "    <tr>\n",
       "      <th>21</th>\n",
       "      <td>2.059239</td>\n",
       "      <td>3.501043</td>\n",
       "      <td>60</td>\n",
       "      <td>1.474763</td>\n",
       "      <td>0</td>\n",
       "      <td>1.348073</td>\n",
       "      <td>7</td>\n",
       "      <td>20</td>\n",
       "      <td>1.658228</td>\n",
       "    </tr>\n",
       "  </tbody>\n",
       "</table>\n",
       "</div>"
      ],
      "text/plain": [
       "      lcavol   lweight  age      lbph  svi       lcp  gleason  pgg45      lpsa\n",
       "6   0.737164  3.473518   64  0.615186    0 -1.386294        6      0  0.765468\n",
       "8  -0.776529  3.539509   47 -1.386294    0 -1.386294        6      0  1.047319\n",
       "9   0.223144  3.244544   63 -1.386294    0 -1.386294        6      0  1.047319\n",
       "14  1.205971  3.442019   57 -1.386294    0 -0.430783        7      5  1.398717\n",
       "21  2.059239  3.501043   60  1.474763    0  1.348073        7     20  1.658228"
      ]
     },
     "execution_count": 6,
     "metadata": {},
     "output_type": "execute_result"
    }
   ],
   "source": [
    "testD.head()"
   ]
  },
  {
   "cell_type": "markdown",
   "metadata": {},
   "source": [
    "### Define target and predictors"
   ]
  },
  {
   "cell_type": "code",
   "execution_count": 7,
   "metadata": {},
   "outputs": [],
   "source": [
    "# Define the target (y) and predictors (X)\n",
    "X = trainD.drop(columns=['lpsa'])  # Predictors\n",
    "y = trainD['lpsa']  # Target"
   ]
  },
  {
   "cell_type": "markdown",
   "metadata": {},
   "source": [
    "## Scale Data"
   ]
  },
  {
   "cell_type": "code",
   "execution_count": 8,
   "metadata": {},
   "outputs": [],
   "source": [
    "# Scale the predictors (important for linear regression)\n",
    "scaler = StandardScaler()\n",
    "X_scaled = scaler.fit_transform(X)\n",
    "X_scaled = pd.DataFrame(X_scaled, columns=X.columns)"
   ]
  },
  {
   "cell_type": "markdown",
   "metadata": {},
   "source": [
    "## Build Model"
   ]
  },
  {
   "cell_type": "code",
   "execution_count": 9,
   "metadata": {},
   "outputs": [],
   "source": [
    "model = LinearRegression()"
   ]
  },
  {
   "cell_type": "markdown",
   "metadata": {},
   "source": [
    "### Recursive Feature Elimination"
   ]
  },
  {
   "cell_type": "code",
   "execution_count": 12,
   "metadata": {},
   "outputs": [
    {
     "name": "stdout",
     "output_type": "stream",
     "text": [
      "Selected features: Index(['lcavol', 'lweight', 'age', 'lbph', 'svi', 'lcp', 'gleason'], dtype='object')\n",
      "RMSE: 0.670643930513973\n",
      "R-squared: 0.5715084468562919\n"
     ]
    }
   ],
   "source": [
    "# Recursive Feature Elimination\n",
    "rfe = RFE(model, n_features_to_select=7)  # Select 4 features\n",
    "rfe.fit(trainD.drop(columns=['lpsa']), trainD['lpsa'])\n",
    "\n",
    "# Selected features\n",
    "print(\"Selected features:\", trainD.drop(columns=['lpsa']).columns[rfe.support_])\n",
    "\n",
    "# Fit the best model\n",
    "best_model = LinearRegression()\n",
    "best_model.fit(trainD[trainD.drop(columns=['lpsa']).columns[rfe.support_]], trainD['lpsa'])\n",
    "\n",
    "# Evaluate the model\n",
    "predictions = best_model.predict(testD[testD.drop(columns=['lpsa']).columns[rfe.support_]])\n",
    "rmse = root_mean_squared_error(testD['lpsa'], predictions)\n",
    "r2 = r2_score(testD['lpsa'], predictions)\n",
    "print(\"RMSE:\", rmse)\n",
    "print(\"R-squared:\", r2)"
   ]
  },
  {
   "cell_type": "markdown",
   "metadata": {},
   "source": [
    "***When `n_features_to_select = 4`***:\n",
    "``` ruby\n",
    "Selected features: Index(['lcavol', 'lweight', 'lbph', 'svi'], dtype='object')\n",
    "RMSE: 0.6755235910315512\n",
    "R-squared: 0.5652502822042023\n",
    "```"
   ]
  },
  {
   "cell_type": "markdown",
   "metadata": {},
   "source": [
    "## Installing mlxtend"
   ]
  },
  {
   "cell_type": "code",
   "execution_count": 11,
   "metadata": {
    "vscode": {
     "languageId": "bat"
    }
   },
   "outputs": [
    {
     "ename": "SyntaxError",
     "evalue": "invalid syntax (517548891.py, line 1)",
     "output_type": "error",
     "traceback": [
      "\u001b[1;36m  Cell \u001b[1;32mIn[11], line 1\u001b[1;36m\u001b[0m\n\u001b[1;33m    @REM conda install mlxtend --channel conda-forge\u001b[0m\n\u001b[1;37m         ^\u001b[0m\n\u001b[1;31mSyntaxError\u001b[0m\u001b[1;31m:\u001b[0m invalid syntax\n"
     ]
    }
   ],
   "source": [
    "@REM conda install mlxtend --channel conda-forge"
   ]
  },
  {
   "cell_type": "markdown",
   "metadata": {},
   "source": [
    "### Model Building"
   ]
  },
  {
   "cell_type": "markdown",
   "metadata": {},
   "source": [
    "#### Forward Selection"
   ]
  },
  {
   "cell_type": "code",
   "execution_count": null,
   "metadata": {},
   "outputs": [
    {
     "name": "stdout",
     "output_type": "stream",
     "text": [
      "Selected features: ('lcavol', 'lweight', 'age', 'lbph', 'svi', 'lcp', 'pgg45')\n"
     ]
    }
   ],
   "source": [
    "from mlxtend.feature_selection import SequentialFeatureSelector as SFS\n",
    "\n",
    "# Perform Forward Selection\n",
    "sfs = SFS(\n",
    "    model, \n",
    "    k_features=7,  # Number of features to select (you can adjust this)\n",
    "    forward=True,  # Forward selection (set to False for backward selection)\n",
    "    scoring='r2',  # Metric to evaluate model performance\n",
    "    cv=5           # Cross-validation folds\n",
    ")\n",
    "\n",
    "# Fit the forward selection model\n",
    "sfs.fit(X, y)\n",
    "\n",
    "# Display the selected features\n",
    "print(\"Selected features:\", sfs.k_feature_names_)"
   ]
  },
  {
   "cell_type": "code",
   "execution_count": 16,
   "metadata": {},
   "outputs": [
    {
     "name": "stdout",
     "output_type": "stream",
     "text": [
      "Coefficients: [ 0.57393039  0.61920883 -0.01947988  0.14442647  0.74178126 -0.20541699\n",
      "  0.008945  ]\n",
      "Intercept: 0.2590617470653944\n"
     ]
    }
   ],
   "source": [
    "# Extract the selected features\n",
    "X_selected = X[list(sfs.k_feature_names_)]\n",
    "\n",
    "# Fit the final model\n",
    "final_model = LinearRegression()\n",
    "final_model.fit(X_selected, y)\n",
    "\n",
    "# Display the coefficients\n",
    "print(\"Coefficients:\", final_model.coef_)\n",
    "print(\"Intercept:\", final_model.intercept_)"
   ]
  },
  {
   "cell_type": "markdown",
   "metadata": {},
   "source": [
    "#### Summary Table"
   ]
  },
  {
   "cell_type": "markdown",
   "metadata": {},
   "source": [
    "##### Version 1"
   ]
  },
  {
   "cell_type": "code",
   "execution_count": 17,
   "metadata": {},
   "outputs": [
    {
     "name": "stdout",
     "output_type": "stream",
     "text": [
      "Metric Dictionary:\n",
      "{1: {'feature_idx': (0,), 'cv_scores': array([ -3.67997145, -10.99371548, -10.26667086,  -8.77431186,\n",
      "        -4.15020233]), 'avg_score': np.float64(-7.572974397529393), 'feature_names': ('lcavol',), 'ci_bound': np.float64(3.9519935887741573), 'std_dev': np.float64(3.0747852754478773), 'std_err': np.float64(1.5373926377239386)}, 2: {'feature_idx': (0, 1), 'cv_scores': array([ -2.86506763, -13.106284  ,  -6.35091259,  -6.2267032 ,\n",
      "        -3.98743112]), 'avg_score': np.float64(-6.507279708487545), 'feature_names': ('lcavol', 'lweight'), 'ci_bound': np.float64(4.571929106786392), 'std_dev': np.float64(3.5571161698920744), 'std_err': np.float64(1.7785580849460372)}, 3: {'feature_idx': (0, 1, 2), 'cv_scores': array([ -2.87749879, -12.98271838,  -6.20363827,  -6.81521966,\n",
      "        -4.1768807 ]), 'avg_score': np.float64(-6.611191159159733), 'feature_names': ('lcavol', 'lweight', 'age'), 'ci_bound': np.float64(4.477183652389205), 'std_dev': np.float64(3.483400987528519), 'std_err': np.float64(1.7417004937642595)}, 4: {'feature_idx': (0, 1, 2, 5), 'cv_scores': array([ -2.94388153, -14.01776932,  -6.86449577,  -6.82867584,\n",
      "        -4.196941  ]), 'avg_score': np.float64(-6.970352691168626), 'feature_names': ('lcavol', 'lweight', 'age', 'lcp'), 'ci_bound': np.float64(4.931285955699645), 'std_dev': np.float64(3.836708006986262), 'std_err': np.float64(1.918354003493131)}, 5: {'feature_idx': (0, 1, 2, 5, 7), 'cv_scores': array([ -2.60282839, -13.42662687,  -8.36369178,  -7.45296114,\n",
      "        -3.76148918]), 'avg_score': np.float64(-7.12151947222182), 'feature_names': ('lcavol', 'lweight', 'age', 'lcp', 'pgg45'), 'ci_bound': np.float64(4.914976587699856), 'std_dev': np.float64(3.8240187645947614), 'std_err': np.float64(1.9120093822973807)}, 6: {'feature_idx': (0, 1, 2, 4, 5, 7), 'cv_scores': array([ -2.87518623, -12.79017333, -10.41053718,  -7.47574649,\n",
      "        -3.4032881 ]), 'avg_score': np.float64(-7.390986266670761), 'feature_names': ('lcavol', 'lweight', 'age', 'svi', 'lcp', 'pgg45'), 'ci_bound': np.float64(4.96362910131041), 'std_dev': np.float64(3.8618720730839744), 'std_err': np.float64(1.930936036541987)}, 7: {'feature_idx': (0, 1, 2, 3, 4, 5, 7), 'cv_scores': array([ -2.649473  , -15.13155607,  -9.40641216,  -7.72033969,\n",
      "        -3.30079344]), 'avg_score': np.float64(-7.641714872452471), 'feature_names': ('lcavol', 'lweight', 'age', 'lbph', 'svi', 'lcp', 'pgg45'), 'ci_bound': np.float64(5.833129309070623), 'std_dev': np.float64(4.538372774758761), 'std_err': np.float64(2.26918638737938)}, 8: {'feature_idx': (0, 1, 2, 3, 4, 5, 6, 7), 'cv_scores': array([ -2.74533614, -16.63145179, -10.07079694,  -7.72076706,\n",
      "        -3.51815561]), 'avg_score': np.float64(-8.137301505635651), 'feature_names': ('lcavol', 'lweight', 'age', 'lbph', 'svi', 'lcp', 'gleason', 'pgg45'), 'ci_bound': np.float64(6.464190317084569), 'std_dev': np.float64(5.029359678397045), 'std_err': np.float64(2.5146798391985223)}}\n"
     ]
    },
    {
     "data": {
      "text/html": [
       "<div>\n",
       "<style scoped>\n",
       "    .dataframe tbody tr th:only-of-type {\n",
       "        vertical-align: middle;\n",
       "    }\n",
       "\n",
       "    .dataframe tbody tr th {\n",
       "        vertical-align: top;\n",
       "    }\n",
       "\n",
       "    .dataframe thead th {\n",
       "        text-align: right;\n",
       "    }\n",
       "</style>\n",
       "<table border=\"1\" class=\"dataframe\">\n",
       "  <thead>\n",
       "    <tr style=\"text-align: right;\">\n",
       "      <th></th>\n",
       "      <th>feature_names</th>\n",
       "      <th>avg_score</th>\n",
       "      <th>Adjusted R-squared</th>\n",
       "      <th>RSS</th>\n",
       "    </tr>\n",
       "  </thead>\n",
       "  <tbody>\n",
       "    <tr>\n",
       "      <th>1</th>\n",
       "      <td>(lcavol,)</td>\n",
       "      <td>-7.572974</td>\n",
       "      <td>-7.704866</td>\n",
       "      <td>44.528583</td>\n",
       "    </tr>\n",
       "    <tr>\n",
       "      <th>2</th>\n",
       "      <td>(lcavol, lweight)</td>\n",
       "      <td>-6.50728</td>\n",
       "      <td>-6.741882</td>\n",
       "      <td>37.091846</td>\n",
       "    </tr>\n",
       "    <tr>\n",
       "      <th>3</th>\n",
       "      <td>(lcavol, lweight, age)</td>\n",
       "      <td>-6.611191</td>\n",
       "      <td>-6.973629</td>\n",
       "      <td>36.817229</td>\n",
       "    </tr>\n",
       "    <tr>\n",
       "      <th>4</th>\n",
       "      <td>(lcavol, lweight, age, lcp)</td>\n",
       "      <td>-6.970353</td>\n",
       "      <td>-7.484569</td>\n",
       "      <td>36.814203</td>\n",
       "    </tr>\n",
       "    <tr>\n",
       "      <th>5</th>\n",
       "      <td>(lcavol, lweight, age, lcp, pgg45)</td>\n",
       "      <td>-7.121519</td>\n",
       "      <td>-7.787218</td>\n",
       "      <td>33.916491</td>\n",
       "    </tr>\n",
       "    <tr>\n",
       "      <th>6</th>\n",
       "      <td>(lcavol, lweight, age, svi, lcp, pgg45)</td>\n",
       "      <td>-7.390986</td>\n",
       "      <td>-8.230085</td>\n",
       "      <td>31.572711</td>\n",
       "    </tr>\n",
       "    <tr>\n",
       "      <th>7</th>\n",
       "      <td>(lcavol, lweight, age, lbph, svi, lcp, pgg45)</td>\n",
       "      <td>-7.641715</td>\n",
       "      <td>-8.667003</td>\n",
       "      <td>29.437300</td>\n",
       "    </tr>\n",
       "    <tr>\n",
       "      <th>8</th>\n",
       "      <td>(lcavol, lweight, age, lbph, svi, lcp, gleason...</td>\n",
       "      <td>-8.137302</td>\n",
       "      <td>-9.397619</td>\n",
       "      <td>29.426384</td>\n",
       "    </tr>\n",
       "  </tbody>\n",
       "</table>\n",
       "</div>"
      ],
      "text/plain": [
       "                                       feature_names avg_score  \\\n",
       "1                                          (lcavol,) -7.572974   \n",
       "2                                  (lcavol, lweight)  -6.50728   \n",
       "3                             (lcavol, lweight, age) -6.611191   \n",
       "4                        (lcavol, lweight, age, lcp) -6.970353   \n",
       "5                 (lcavol, lweight, age, lcp, pgg45) -7.121519   \n",
       "6            (lcavol, lweight, age, svi, lcp, pgg45) -7.390986   \n",
       "7      (lcavol, lweight, age, lbph, svi, lcp, pgg45) -7.641715   \n",
       "8  (lcavol, lweight, age, lbph, svi, lcp, gleason... -8.137302   \n",
       "\n",
       "  Adjusted R-squared        RSS  \n",
       "1          -7.704866  44.528583  \n",
       "2          -6.741882  37.091846  \n",
       "3          -6.973629  36.817229  \n",
       "4          -7.484569  36.814203  \n",
       "5          -7.787218  33.916491  \n",
       "6          -8.230085  31.572711  \n",
       "7          -8.667003  29.437300  \n",
       "8          -9.397619  29.426384  "
      ]
     },
     "execution_count": 17,
     "metadata": {},
     "output_type": "execute_result"
    }
   ],
   "source": [
    "# Perform Forward Selection\n",
    "sfs2 = SFS(\n",
    "    model, \n",
    "    k_features=(1, X.shape[1]),  # Test all subsets from 1 to all features\n",
    "    forward=True,  # Forward selection\n",
    "    scoring='r2',  # Metric to evaluate model performance\n",
    "    cv=5           # Cross-validation folds\n",
    ")\n",
    "\n",
    "# Fit the forward selection model\n",
    "sfs2.fit(X, y)\n",
    "\n",
    "# Get the metric dictionary\n",
    "metric_dict = sfs2.get_metric_dict()\n",
    "\n",
    "# Convert the metric dictionary to a DataFrame\n",
    "results_table = pd.DataFrame.from_dict(metric_dict).T\n",
    "\n",
    "# Debug: Print the metric dictionary\n",
    "print(\"Metric Dictionary:\")\n",
    "print(metric_dict)\n",
    "\n",
    "# Calculate Adjusted R-squared and RSS for each subset\n",
    "n = len(y)  # Number of observations\n",
    "results_table['Adjusted R-squared'] = 1 - (1 - results_table['avg_score']) * (n - 1) / (n - results_table['feature_idx'].apply(len) - 1)\n",
    "\n",
    "# Calculate RSS for each subset\n",
    "rss_list = []\n",
    "for feature_idx in results_table['feature_idx']:\n",
    "    X_subset = X.iloc[:, list(feature_idx)]\n",
    "    model.fit(X_subset, y)\n",
    "    y_pred = model.predict(X_subset)\n",
    "    rss = np.sum((y - y_pred) ** 2)  # RSS = sum of squared residuals\n",
    "    rss_list.append(rss)\n",
    "\n",
    "results_table['RSS'] = rss_list\n",
    "\n",
    "# Display the table\n",
    "results_table[['feature_names', 'avg_score', 'Adjusted R-squared', 'RSS']]"
   ]
  },
  {
   "cell_type": "markdown",
   "metadata": {},
   "source": [
    "##### Version 2"
   ]
  },
  {
   "cell_type": "code",
   "execution_count": 20,
   "metadata": {},
   "outputs": [],
   "source": [
    "sfs2 = SFS(\n",
    "    model, \n",
    "    k_features=(1, X.shape[1]),  # Test all subsets from 1 to all features\n",
    "    forward=True,  # Forward selection\n",
    "    scoring='neg_mean_squared_error',  # Use negative MSE instead of R-squared\n",
    "    cv=3  # Reduce the number of folds for small datasets\n",
    ")\n",
    "\n",
    "# Fit the forward selection model\n",
    "sfs2.fit(X_scaled, y)\n",
    "\n",
    "# Get the metric dictionary\n",
    "metric_dict = sfs2.get_metric_dict()\n",
    "metric_dict"
   ]
  },
  {
   "cell_type": "code",
   "execution_count": 22,
   "metadata": {},
   "outputs": [
    {
     "data": {
      "text/html": [
       "<div>\n",
       "<style scoped>\n",
       "    .dataframe tbody tr th:only-of-type {\n",
       "        vertical-align: middle;\n",
       "    }\n",
       "\n",
       "    .dataframe tbody tr th {\n",
       "        vertical-align: top;\n",
       "    }\n",
       "\n",
       "    .dataframe thead th {\n",
       "        text-align: right;\n",
       "    }\n",
       "</style>\n",
       "<table border=\"1\" class=\"dataframe\">\n",
       "  <thead>\n",
       "    <tr style=\"text-align: right;\">\n",
       "      <th></th>\n",
       "      <th>feature_names</th>\n",
       "      <th>avg_score</th>\n",
       "      <th>Adjusted R-squared</th>\n",
       "      <th>RSS</th>\n",
       "    </tr>\n",
       "  </thead>\n",
       "  <tbody>\n",
       "    <tr>\n",
       "      <th>1</th>\n",
       "      <td>(lcavol,)</td>\n",
       "      <td>-1.47835</td>\n",
       "      <td>-1.516479</td>\n",
       "      <td>44.528583</td>\n",
       "    </tr>\n",
       "    <tr>\n",
       "      <th>2</th>\n",
       "      <td>(lcavol, lweight)</td>\n",
       "      <td>-1.341568</td>\n",
       "      <td>-1.414742</td>\n",
       "      <td>37.091846</td>\n",
       "    </tr>\n",
       "    <tr>\n",
       "      <th>3</th>\n",
       "      <td>(lcavol, lweight, age)</td>\n",
       "      <td>-1.373316</td>\n",
       "      <td>-1.486331</td>\n",
       "      <td>36.817229</td>\n",
       "    </tr>\n",
       "    <tr>\n",
       "      <th>4</th>\n",
       "      <td>(lcavol, lweight, age, pgg45)</td>\n",
       "      <td>-1.402769</td>\n",
       "      <td>-1.557786</td>\n",
       "      <td>34.815976</td>\n",
       "    </tr>\n",
       "    <tr>\n",
       "      <th>5</th>\n",
       "      <td>(lcavol, lweight, age, lcp, pgg45)</td>\n",
       "      <td>-1.418755</td>\n",
       "      <td>-1.617014</td>\n",
       "      <td>33.916491</td>\n",
       "    </tr>\n",
       "    <tr>\n",
       "      <th>6</th>\n",
       "      <td>(lcavol, lweight, age, lbph, lcp, pgg45)</td>\n",
       "      <td>-1.534291</td>\n",
       "      <td>-1.78772</td>\n",
       "      <td>32.603751</td>\n",
       "    </tr>\n",
       "    <tr>\n",
       "      <th>7</th>\n",
       "      <td>(lcavol, lweight, age, lbph, lcp, gleason, pgg45)</td>\n",
       "      <td>-1.863747</td>\n",
       "      <td>-2.203513</td>\n",
       "      <td>32.519818</td>\n",
       "    </tr>\n",
       "    <tr>\n",
       "      <th>8</th>\n",
       "      <td>(lcavol, lweight, age, lbph, svi, lcp, gleason...</td>\n",
       "      <td>-2.327985</td>\n",
       "      <td>-2.787018</td>\n",
       "      <td>29.426384</td>\n",
       "    </tr>\n",
       "  </tbody>\n",
       "</table>\n",
       "</div>"
      ],
      "text/plain": [
       "                                       feature_names avg_score  \\\n",
       "1                                          (lcavol,)  -1.47835   \n",
       "2                                  (lcavol, lweight) -1.341568   \n",
       "3                             (lcavol, lweight, age) -1.373316   \n",
       "4                      (lcavol, lweight, age, pgg45) -1.402769   \n",
       "5                 (lcavol, lweight, age, lcp, pgg45) -1.418755   \n",
       "6           (lcavol, lweight, age, lbph, lcp, pgg45) -1.534291   \n",
       "7  (lcavol, lweight, age, lbph, lcp, gleason, pgg45) -1.863747   \n",
       "8  (lcavol, lweight, age, lbph, svi, lcp, gleason... -2.327985   \n",
       "\n",
       "  Adjusted R-squared        RSS  \n",
       "1          -1.516479  44.528583  \n",
       "2          -1.414742  37.091846  \n",
       "3          -1.486331  36.817229  \n",
       "4          -1.557786  34.815976  \n",
       "5          -1.617014  33.916491  \n",
       "6           -1.78772  32.603751  \n",
       "7          -2.203513  32.519818  \n",
       "8          -2.787018  29.426384  "
      ]
     },
     "execution_count": 22,
     "metadata": {},
     "output_type": "execute_result"
    }
   ],
   "source": [
    "# Convert the metric dictionary to a DataFrame\n",
    "results_table = pd.DataFrame.from_dict(metric_dict).T\n",
    "\n",
    "# Calculate Adjusted R-squared and RSS for each subset\n",
    "n = len(y)  # Number of observations\n",
    "results_table['Adjusted R-squared'] = 1 - (1 - results_table['avg_score']) * (n - 1) / (n - results_table['feature_idx'].apply(len) - 1)\n",
    "\n",
    "# Calculate RSS for each subset\n",
    "rss_list = []\n",
    "for feature_idx in results_table['feature_idx']:\n",
    "    X_subset = X_scaled.iloc[:, list(feature_idx)]\n",
    "    model.fit(X_subset, y)\n",
    "    y_pred = model.predict(X_subset)\n",
    "    rss = np.sum((y - y_pred) ** 2)  # RSS = sum of squared residuals\n",
    "    rss_list.append(rss)\n",
    "\n",
    "results_table['RSS'] = rss_list\n",
    "\n",
    "# Display the table\n",
    "final_table = results_table[['feature_names', 'avg_score', 'Adjusted R-squared', 'RSS']]\n",
    "final_table"
   ]
  },
  {
   "cell_type": "code",
   "execution_count": 19,
   "metadata": {},
   "outputs": [],
   "source": [
    "# After fitting SFS\n",
    "selected_features = list(sfs.k_feature_names_)\n",
    "\n",
    "# After selecting features with SFS/RFE\n",
    "test_predictions = final_model.predict(testD[selected_features])\n",
    "test_rmse = root_mean_squared_error(testD['lpsa'], test_predictions)\n",
    "test_r2 = r2_score(testD['lpsa'], test_predictions)"
   ]
  },
  {
   "cell_type": "code",
   "execution_count": 22,
   "metadata": {},
   "outputs": [
    {
     "name": "stdout",
     "output_type": "stream",
     "text": [
      "Test Predictions: [1.95988086 1.17407999 1.25349932 1.90517799 2.5549831  1.92271266\n",
      " 2.02773043 1.84392403 1.98423025 1.32077751 2.95738085 2.21645891\n",
      " 2.18741337 2.79439035 2.67390306 2.16798281 2.38839321 3.02295468\n",
      " 3.2261123  1.40959818 3.42265999 3.70166358 2.53015458 2.74164111\n",
      " 2.6555575  3.51791852 3.16509553 3.33426708 3.14262448 3.77586284]\n",
      "Test RMSE: 0.7186887278638796\n",
      "Test R2: 0.507915217649171\n"
     ]
    }
   ],
   "source": [
    "print(f'Test Predictions: {test_predictions}')\n",
    "print(f'Test RMSE: {test_rmse}')\n",
    "print(f'Test R2: {test_r2}')"
   ]
  },
  {
   "cell_type": "code",
   "execution_count": 21,
   "metadata": {},
   "outputs": [
    {
     "name": "stdout",
     "output_type": "stream",
     "text": [
      "Selected features: Index(['lcavol', 'lweight', 'age', 'lbph', 'svi', 'lcp', 'gleason'], dtype='object')\n"
     ]
    }
   ],
   "source": [
    "# After fitting RFE\n",
    "selected_features = trainD.drop(columns=['lpsa']).columns[rfe.support_]\n",
    "print(\"Selected features:\", selected_features)\n",
    "\n",
    "# Fit the model on selected features\n",
    "best_model.fit(trainD[selected_features], trainD['lpsa'])\n",
    "\n",
    "# Evaluate on the test set\n",
    "predictions = best_model.predict(testD[selected_features])"
   ]
  }
 ],
 "metadata": {
  "kernelspec": {
   "display_name": "DataScience",
   "language": "python",
   "name": "python3"
  },
  "language_info": {
   "codemirror_mode": {
    "name": "ipython",
    "version": 3
   },
   "file_extension": ".py",
   "mimetype": "text/x-python",
   "name": "python",
   "nbconvert_exporter": "python",
   "pygments_lexer": "ipython3",
   "version": "3.13.1"
  }
 },
 "nbformat": 4,
 "nbformat_minor": 2
}
