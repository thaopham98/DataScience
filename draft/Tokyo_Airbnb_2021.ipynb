{
 "cells": [
  {
   "cell_type": "code",
   "execution_count": 1,
   "metadata": {},
   "outputs": [],
   "source": [
    "import pandas as pd"
   ]
  },
  {
   "cell_type": "markdown",
   "metadata": {},
   "source": [
    "# Airbnb Tokyo 2021 Calendar Dataset "
   ]
  },
  {
   "cell_type": "markdown",
   "metadata": {},
   "source": [
    "## Import Dataset \n",
    "- Tokyo-calendar-2021-cleaned.csv\n",
    "- Tokyo-calendar_JAN_FEB_MAR_2021.csv"
   ]
  },
  {
   "cell_type": "code",
   "execution_count": null,
   "metadata": {},
   "outputs": [],
   "source": [
    "df1 = pd.read_csv(r\"..\\data\\Tokyo-calendar-2021-cleaned.csv\") # Wrong path"
   ]
  },
  {
   "cell_type": "code",
   "execution_count": 8,
   "metadata": {},
   "outputs": [
    {
     "name": "stdout",
     "output_type": "stream",
     "text": [
      "<class 'pandas.core.frame.DataFrame'>\n",
      "RangeIndex: 887404 entries, 0 to 887403\n",
      "Data columns (total 7 columns):\n",
      " #   Column          Non-Null Count   Dtype         \n",
      "---  ------          --------------   -----         \n",
      " 0   listing_id      887404 non-null  int64         \n",
      " 1   date            887404 non-null  datetime64[ns]\n",
      " 2   available       887404 non-null  object        \n",
      " 3   price           887404 non-null  object        \n",
      " 4   adjusted_price  887404 non-null  object        \n",
      " 5   minimum_nights  887308 non-null  float64       \n",
      " 6   maximum_nights  887308 non-null  float64       \n",
      "dtypes: datetime64[ns](1), float64(2), int64(1), object(3)\n",
      "memory usage: 47.4+ MB\n"
     ]
    }
   ],
   "source": [
    "df1.info()"
   ]
  },
  {
   "cell_type": "code",
   "execution_count": null,
   "metadata": {},
   "outputs": [
    {
     "name": "stdout",
     "output_type": "stream",
     "text": [
      "<class 'pandas.core.frame.DataFrame'>\n",
      "RangeIndex: 901961 entries, 0 to 901960\n",
      "Data columns (total 7 columns):\n",
      " #   Column          Non-Null Count   Dtype \n",
      "---  ------          --------------   ----- \n",
      " 0   listing_id      901961 non-null  int64 \n",
      " 1   date            901961 non-null  object\n",
      " 2   available       901961 non-null  object\n",
      " 3   price           901766 non-null  object\n",
      " 4   adjusted_price  901766 non-null  object\n",
      " 5   minimum_nights  901961 non-null  int64 \n",
      " 6   maximum_nights  901961 non-null  int64 \n",
      "dtypes: int64(3), object(4)\n",
      "memory usage: 48.2+ MB\n"
     ]
    }
   ],
   "source": [
    "df2 = pd.read_csv(r\"..\\data\\Tokyo-calendar_JAN_FEB_MAR_2021.csv\") # Wrong path\n",
    "df2.info()"
   ]
  },
  {
   "cell_type": "markdown",
   "metadata": {},
   "source": [
    "## Converting to datetime type"
   ]
  },
  {
   "cell_type": "code",
   "execution_count": 7,
   "metadata": {},
   "outputs": [],
   "source": [
    "df1['date'] = pd.to_datetime(df1['date'])"
   ]
  },
  {
   "cell_type": "code",
   "execution_count": 16,
   "metadata": {},
   "outputs": [],
   "source": [
    "def dateRange(df):\n",
    "    startDate = min(df['date'])\n",
    "    endDate = max(df['date'])\n",
    "    return f'between {startDate} and {endDate}'"
   ]
  },
  {
   "cell_type": "code",
   "execution_count": 17,
   "metadata": {},
   "outputs": [
    {
     "name": "stdout",
     "output_type": "stream",
     "text": [
      "df1 date range between 2021-02-25 00:00:00 and 2021-12-31 00:00:00\n"
     ]
    }
   ],
   "source": [
    "print(f'df1 date range {dateRange(df1)}')"
   ]
  },
  {
   "cell_type": "code",
   "execution_count": null,
   "metadata": {},
   "outputs": [
    {
     "name": "stdout",
     "output_type": "stream",
     "text": [
      "<class 'pandas.core.frame.DataFrame'>\n",
      "RangeIndex: 901961 entries, 0 to 901960\n",
      "Data columns (total 7 columns):\n",
      " #   Column          Non-Null Count   Dtype         \n",
      "---  ------          --------------   -----         \n",
      " 0   listing_id      901961 non-null  int64         \n",
      " 1   date            901961 non-null  datetime64[ns]\n",
      " 2   available       901961 non-null  object        \n",
      " 3   price           901766 non-null  object        \n",
      " 4   adjusted_price  901766 non-null  object        \n",
      " 5   minimum_nights  901961 non-null  int64         \n",
      " 6   maximum_nights  901961 non-null  int64         \n",
      "dtypes: datetime64[ns](1), int64(3), object(3)\n",
      "memory usage: 48.2+ MB\n"
     ]
    }
   ],
   "source": [
    "df2['date'] = pd.to_datetime(df2['date'])\n",
    "df2.info()"
   ]
  },
  {
   "cell_type": "code",
   "execution_count": 18,
   "metadata": {},
   "outputs": [
    {
     "name": "stdout",
     "output_type": "stream",
     "text": [
      "df2 date range between 2021-01-01 00:00:00 and 2021-03-02 00:00:00\n"
     ]
    }
   ],
   "source": [
    "print(f'df2 date range {dateRange(df2)}')"
   ]
  },
  {
   "cell_type": "markdown",
   "metadata": {},
   "source": [
    "### Filter the Correct Date for `df2`"
   ]
  },
  {
   "cell_type": "code",
   "execution_count": 49,
   "metadata": {},
   "outputs": [],
   "source": [
    "# Convert 'date' column to datetime (if not already done)\n",
    "df2['date'] = pd.to_datetime(df2['date'])\n",
    "\n",
    "# Filter df2 to keep only rows where date <= 2021-02-25\n",
    "df2 = df2[df2['date'] <= '2021-02-24']"
   ]
  },
  {
   "cell_type": "code",
   "execution_count": 50,
   "metadata": {},
   "outputs": [
    {
     "data": {
      "text/html": [
       "<div>\n",
       "<style scoped>\n",
       "    .dataframe tbody tr th:only-of-type {\n",
       "        vertical-align: middle;\n",
       "    }\n",
       "\n",
       "    .dataframe tbody tr th {\n",
       "        vertical-align: top;\n",
       "    }\n",
       "\n",
       "    .dataframe thead th {\n",
       "        text-align: right;\n",
       "    }\n",
       "</style>\n",
       "<table border=\"1\" class=\"dataframe\">\n",
       "  <thead>\n",
       "    <tr style=\"text-align: right;\">\n",
       "      <th></th>\n",
       "      <th>listing_id</th>\n",
       "      <th>date</th>\n",
       "      <th>available</th>\n",
       "      <th>price</th>\n",
       "      <th>adjusted_price</th>\n",
       "      <th>minimum_nights</th>\n",
       "      <th>maximum_nights</th>\n",
       "    </tr>\n",
       "  </thead>\n",
       "  <tbody>\n",
       "    <tr>\n",
       "      <th>0</th>\n",
       "      <td>35303</td>\n",
       "      <td>2021-01-01</td>\n",
       "      <td>f</td>\n",
       "      <td>$4,200.00</td>\n",
       "      <td>$4,200.00</td>\n",
       "      <td>28</td>\n",
       "      <td>1125</td>\n",
       "    </tr>\n",
       "    <tr>\n",
       "      <th>1</th>\n",
       "      <td>35303</td>\n",
       "      <td>2021-01-02</td>\n",
       "      <td>f</td>\n",
       "      <td>$4,200.00</td>\n",
       "      <td>$4,200.00</td>\n",
       "      <td>28</td>\n",
       "      <td>1125</td>\n",
       "    </tr>\n",
       "    <tr>\n",
       "      <th>2</th>\n",
       "      <td>35303</td>\n",
       "      <td>2021-01-03</td>\n",
       "      <td>f</td>\n",
       "      <td>$4,200.00</td>\n",
       "      <td>$4,200.00</td>\n",
       "      <td>28</td>\n",
       "      <td>1125</td>\n",
       "    </tr>\n",
       "    <tr>\n",
       "      <th>3</th>\n",
       "      <td>35303</td>\n",
       "      <td>2021-01-04</td>\n",
       "      <td>f</td>\n",
       "      <td>$4,200.00</td>\n",
       "      <td>$4,200.00</td>\n",
       "      <td>28</td>\n",
       "      <td>1125</td>\n",
       "    </tr>\n",
       "    <tr>\n",
       "      <th>4</th>\n",
       "      <td>35303</td>\n",
       "      <td>2021-01-05</td>\n",
       "      <td>f</td>\n",
       "      <td>$4,200.00</td>\n",
       "      <td>$4,200.00</td>\n",
       "      <td>28</td>\n",
       "      <td>1125</td>\n",
       "    </tr>\n",
       "  </tbody>\n",
       "</table>\n",
       "</div>"
      ],
      "text/plain": [
       "   listing_id       date available       price adjusted_price  minimum_nights  \\\n",
       "0       35303 2021-01-01         f  $4,200.00      $4,200.00               28   \n",
       "1       35303 2021-01-02         f  $4,200.00      $4,200.00               28   \n",
       "2       35303 2021-01-03         f  $4,200.00      $4,200.00               28   \n",
       "3       35303 2021-01-04         f  $4,200.00      $4,200.00               28   \n",
       "4       35303 2021-01-05         f  $4,200.00      $4,200.00               28   \n",
       "\n",
       "   maximum_nights  \n",
       "0            1125  \n",
       "1            1125  \n",
       "2            1125  \n",
       "3            1125  \n",
       "4            1125  "
      ]
     },
     "execution_count": 50,
     "metadata": {},
     "output_type": "execute_result"
    }
   ],
   "source": [
    "df2.head()"
   ]
  },
  {
   "cell_type": "code",
   "execution_count": 51,
   "metadata": {},
   "outputs": [
    {
     "data": {
      "text/html": [
       "<div>\n",
       "<style scoped>\n",
       "    .dataframe tbody tr th:only-of-type {\n",
       "        vertical-align: middle;\n",
       "    }\n",
       "\n",
       "    .dataframe tbody tr th {\n",
       "        vertical-align: top;\n",
       "    }\n",
       "\n",
       "    .dataframe thead th {\n",
       "        text-align: right;\n",
       "    }\n",
       "</style>\n",
       "<table border=\"1\" class=\"dataframe\">\n",
       "  <thead>\n",
       "    <tr style=\"text-align: right;\">\n",
       "      <th></th>\n",
       "      <th>listing_id</th>\n",
       "      <th>date</th>\n",
       "      <th>available</th>\n",
       "      <th>price</th>\n",
       "      <th>adjusted_price</th>\n",
       "      <th>minimum_nights</th>\n",
       "      <th>maximum_nights</th>\n",
       "    </tr>\n",
       "  </thead>\n",
       "  <tbody>\n",
       "    <tr>\n",
       "      <th>901953</th>\n",
       "      <td>41388320</td>\n",
       "      <td>2021-02-20</td>\n",
       "      <td>f</td>\n",
       "      <td>$1,000,000.00</td>\n",
       "      <td>$1,000,000.00</td>\n",
       "      <td>1</td>\n",
       "      <td>30</td>\n",
       "    </tr>\n",
       "    <tr>\n",
       "      <th>901954</th>\n",
       "      <td>41388320</td>\n",
       "      <td>2021-02-21</td>\n",
       "      <td>f</td>\n",
       "      <td>$1,000,000.00</td>\n",
       "      <td>$1,000,000.00</td>\n",
       "      <td>1</td>\n",
       "      <td>30</td>\n",
       "    </tr>\n",
       "    <tr>\n",
       "      <th>901955</th>\n",
       "      <td>41388320</td>\n",
       "      <td>2021-02-22</td>\n",
       "      <td>f</td>\n",
       "      <td>$1,000,000.00</td>\n",
       "      <td>$1,000,000.00</td>\n",
       "      <td>1</td>\n",
       "      <td>30</td>\n",
       "    </tr>\n",
       "    <tr>\n",
       "      <th>901956</th>\n",
       "      <td>41388320</td>\n",
       "      <td>2021-02-23</td>\n",
       "      <td>f</td>\n",
       "      <td>$1,000,000.00</td>\n",
       "      <td>$1,000,000.00</td>\n",
       "      <td>1</td>\n",
       "      <td>30</td>\n",
       "    </tr>\n",
       "    <tr>\n",
       "      <th>901957</th>\n",
       "      <td>41388320</td>\n",
       "      <td>2021-02-24</td>\n",
       "      <td>f</td>\n",
       "      <td>$1,000,000.00</td>\n",
       "      <td>$1,000,000.00</td>\n",
       "      <td>1</td>\n",
       "      <td>30</td>\n",
       "    </tr>\n",
       "  </tbody>\n",
       "</table>\n",
       "</div>"
      ],
      "text/plain": [
       "        listing_id       date available           price  adjusted_price  \\\n",
       "901953    41388320 2021-02-20         f  $1,000,000.00   $1,000,000.00    \n",
       "901954    41388320 2021-02-21         f  $1,000,000.00   $1,000,000.00    \n",
       "901955    41388320 2021-02-22         f  $1,000,000.00   $1,000,000.00    \n",
       "901956    41388320 2021-02-23         f  $1,000,000.00   $1,000,000.00    \n",
       "901957    41388320 2021-02-24         f  $1,000,000.00   $1,000,000.00    \n",
       "\n",
       "        minimum_nights  maximum_nights  \n",
       "901953               1              30  \n",
       "901954               1              30  \n",
       "901955               1              30  \n",
       "901956               1              30  \n",
       "901957               1              30  "
      ]
     },
     "execution_count": 51,
     "metadata": {},
     "output_type": "execute_result"
    }
   ],
   "source": [
    "df2.tail()"
   ]
  },
  {
   "cell_type": "markdown",
   "metadata": {},
   "source": [
    "## Check for listing_id"
   ]
  },
  {
   "cell_type": "code",
   "execution_count": 19,
   "metadata": {},
   "outputs": [
    {
     "data": {
      "text/plain": [
       "2874"
      ]
     },
     "execution_count": 19,
     "metadata": {},
     "output_type": "execute_result"
    }
   ],
   "source": [
    "df1['listing_id'].nunique()"
   ]
  },
  {
   "cell_type": "code",
   "execution_count": 52,
   "metadata": {},
   "outputs": [
    {
     "data": {
      "text/plain": [
       "15551"
      ]
     },
     "execution_count": 52,
     "metadata": {},
     "output_type": "execute_result"
    }
   ],
   "source": [
    "df2['listing_id'].nunique()"
   ]
  },
  {
   "cell_type": "markdown",
   "metadata": {},
   "source": [
    "### Step 1: Check if all `listing_id`s from `df1` and `df2`"
   ]
  },
  {
   "cell_type": "code",
   "execution_count": 53,
   "metadata": {},
   "outputs": [
    {
     "name": "stdout",
     "output_type": "stream",
     "text": [
      "All listing_ids from df1 exist in df2: False\n",
      "Number of listing_ids from df1 that exist in df2: 2685\n",
      "Number of listing_ids from df1 that do not exist in df2: 189\n"
     ]
    }
   ],
   "source": [
    "# Get the unique listing_ids from df1\n",
    "unique_df1 = set(df1['listing_id'].unique())\n",
    "\n",
    "# Get the unique listing_ids from df2\n",
    "unique_df2 = set(df2['listing_id'].unique())\n",
    "\n",
    "# Check if all listing_ids from df1 exist in df2\n",
    "all_df1_in_df2 = unique_df1.issubset(unique_df2)\n",
    "\n",
    "# Count the number of listing_ids from df1 that exist in df2\n",
    "exist_df1_in_df2 = len(unique_df1.intersection(unique_df2))\n",
    "\n",
    "# Count the number of listing_ids from df1 that do not exist in df2\n",
    "non_exist_df1_in_df2 = len(unique_df1 - unique_df2)\n",
    "\n",
    "print(f\"All listing_ids from df1 exist in df2: {all_df1_in_df2}\")\n",
    "print(f\"Number of listing_ids from df1 that exist in df2: {exist_df1_in_df2}\")\n",
    "print(f\"Number of listing_ids from df1 that do not exist in df2: {non_exist_df1_in_df2}\")"
   ]
  },
  {
   "cell_type": "markdown",
   "metadata": {},
   "source": [
    "### Step 2: Check if all `listing_id`s from `df2` exist in `df1`"
   ]
  },
  {
   "cell_type": "code",
   "execution_count": 54,
   "metadata": {},
   "outputs": [
    {
     "name": "stdout",
     "output_type": "stream",
     "text": [
      "All listing_ids from df2 exist in df1: False\n",
      "Number of listing_ids from df2 that exist in df1: 2685\n",
      "Number of listing_ids from df2 that do not exist in df1: 12866\n"
     ]
    }
   ],
   "source": [
    "# Check if all listing_ids from df2 exist in df1\n",
    "all_df2_in_df1 = unique_df2.issubset(unique_df1)\n",
    "\n",
    "# Count the number of listing_ids from df2 that exist in df1\n",
    "exist_df2_in_df1 = len(unique_df2.intersection(unique_df1))\n",
    "\n",
    "# Count the number of listing_ids from df2 that do not exist in df1\n",
    "non_exist_df2_in_df1 = len(unique_df2 - unique_df1)\n",
    "\n",
    "print(f\"All listing_ids from df2 exist in df1: {all_df2_in_df1}\")\n",
    "print(f\"Number of listing_ids from df2 that exist in df1: {exist_df2_in_df1}\")\n",
    "print(f\"Number of listing_ids from df2 that do not exist in df1: {non_exist_df2_in_df1}\")"
   ]
  },
  {
   "cell_type": "markdown",
   "metadata": {},
   "source": [
    "### Step 3: Merge Existing `listing_id`s on both `df1` and `df2`\n",
    "#### Step 1: Find Shared `listing_id`s"
   ]
  },
  {
   "cell_type": "code",
   "execution_count": 55,
   "metadata": {},
   "outputs": [],
   "source": [
    "shared_listing_ids = set(df1['listing_id']).intersection(df2['listing_id'])"
   ]
  },
  {
   "cell_type": "markdown",
   "metadata": {},
   "source": [
    "#### Step 2: Filter Rows from Both DataFrames"
   ]
  },
  {
   "cell_type": "code",
   "execution_count": 56,
   "metadata": {},
   "outputs": [],
   "source": [
    "df1_shared = df1[df1['listing_id'].isin(shared_listing_ids)]\n",
    "df2_shared = df2[df2['listing_id'].isin(shared_listing_ids)]"
   ]
  },
  {
   "cell_type": "markdown",
   "metadata": {},
   "source": [
    "#### Step 3: Combine the Filtered Rows"
   ]
  },
  {
   "cell_type": "code",
   "execution_count": 58,
   "metadata": {},
   "outputs": [],
   "source": [
    "merged_df = pd.concat([df1_shared, df2_shared], ignore_index=True)"
   ]
  },
  {
   "cell_type": "markdown",
   "metadata": {},
   "source": [
    "#### Step 4: Verify the Results"
   ]
  },
  {
   "cell_type": "code",
   "execution_count": 59,
   "metadata": {},
   "outputs": [
    {
     "name": "stdout",
     "output_type": "stream",
     "text": [
      "Number of rows in merged_df: 976710\n",
      "Number of unique listing_ids: 2685\n",
      "Columns: ['listing_id', 'date', 'available', 'price', 'adjusted_price', 'minimum_nights', 'maximum_nights']\n"
     ]
    }
   ],
   "source": [
    "print(f\"Number of rows in merged_df: {len(merged_df)}\")\n",
    "print(f\"Number of unique listing_ids: {merged_df['listing_id'].nunique()}\")\n",
    "print(f\"Columns: {merged_df.columns.tolist()}\")"
   ]
  },
  {
   "cell_type": "code",
   "execution_count": 63,
   "metadata": {},
   "outputs": [
    {
     "data": {
      "text/html": [
       "<div>\n",
       "<style scoped>\n",
       "    .dataframe tbody tr th:only-of-type {\n",
       "        vertical-align: middle;\n",
       "    }\n",
       "\n",
       "    .dataframe tbody tr th {\n",
       "        vertical-align: top;\n",
       "    }\n",
       "\n",
       "    .dataframe thead th {\n",
       "        text-align: right;\n",
       "    }\n",
       "</style>\n",
       "<table border=\"1\" class=\"dataframe\">\n",
       "  <thead>\n",
       "    <tr style=\"text-align: right;\">\n",
       "      <th></th>\n",
       "      <th>listing_id</th>\n",
       "      <th>date</th>\n",
       "      <th>available</th>\n",
       "      <th>price</th>\n",
       "      <th>adjusted_price</th>\n",
       "      <th>minimum_nights</th>\n",
       "      <th>maximum_nights</th>\n",
       "    </tr>\n",
       "  </thead>\n",
       "  <tbody>\n",
       "    <tr>\n",
       "      <th>0</th>\n",
       "      <td>4391546</td>\n",
       "      <td>2021-02-25</td>\n",
       "      <td>f</td>\n",
       "      <td>$9,500.00</td>\n",
       "      <td>$9,500.00</td>\n",
       "      <td>30.0</td>\n",
       "      <td>120.0</td>\n",
       "    </tr>\n",
       "    <tr>\n",
       "      <th>1</th>\n",
       "      <td>4606903</td>\n",
       "      <td>2021-02-25</td>\n",
       "      <td>f</td>\n",
       "      <td>$20,000.00</td>\n",
       "      <td>$20,000.00</td>\n",
       "      <td>3.0</td>\n",
       "      <td>30.0</td>\n",
       "    </tr>\n",
       "    <tr>\n",
       "      <th>2</th>\n",
       "      <td>6308465</td>\n",
       "      <td>2021-02-25</td>\n",
       "      <td>f</td>\n",
       "      <td>$50,000.00</td>\n",
       "      <td>$50,000.00</td>\n",
       "      <td>1.0</td>\n",
       "      <td>90.0</td>\n",
       "    </tr>\n",
       "    <tr>\n",
       "      <th>3</th>\n",
       "      <td>6428968</td>\n",
       "      <td>2021-02-25</td>\n",
       "      <td>f</td>\n",
       "      <td>$5,000.00</td>\n",
       "      <td>$5,000.00</td>\n",
       "      <td>1.0</td>\n",
       "      <td>60.0</td>\n",
       "    </tr>\n",
       "    <tr>\n",
       "      <th>4</th>\n",
       "      <td>1526132</td>\n",
       "      <td>2021-02-25</td>\n",
       "      <td>t</td>\n",
       "      <td>$6,980.00</td>\n",
       "      <td>$6,980.00</td>\n",
       "      <td>2.0</td>\n",
       "      <td>30.0</td>\n",
       "    </tr>\n",
       "    <tr>\n",
       "      <th>...</th>\n",
       "      <td>...</td>\n",
       "      <td>...</td>\n",
       "      <td>...</td>\n",
       "      <td>...</td>\n",
       "      <td>...</td>\n",
       "      <td>...</td>\n",
       "      <td>...</td>\n",
       "    </tr>\n",
       "    <tr>\n",
       "      <th>976705</th>\n",
       "      <td>28347068</td>\n",
       "      <td>2021-02-20</td>\n",
       "      <td>f</td>\n",
       "      <td>$11,250.00</td>\n",
       "      <td>$11,250.00</td>\n",
       "      <td>1.0</td>\n",
       "      <td>30.0</td>\n",
       "    </tr>\n",
       "    <tr>\n",
       "      <th>976706</th>\n",
       "      <td>28347068</td>\n",
       "      <td>2021-02-21</td>\n",
       "      <td>f</td>\n",
       "      <td>$10,500.00</td>\n",
       "      <td>$10,500.00</td>\n",
       "      <td>1.0</td>\n",
       "      <td>30.0</td>\n",
       "    </tr>\n",
       "    <tr>\n",
       "      <th>976707</th>\n",
       "      <td>28347068</td>\n",
       "      <td>2021-02-22</td>\n",
       "      <td>f</td>\n",
       "      <td>$10,500.00</td>\n",
       "      <td>$10,500.00</td>\n",
       "      <td>1.0</td>\n",
       "      <td>30.0</td>\n",
       "    </tr>\n",
       "    <tr>\n",
       "      <th>976708</th>\n",
       "      <td>28347068</td>\n",
       "      <td>2021-02-23</td>\n",
       "      <td>f</td>\n",
       "      <td>$10,500.00</td>\n",
       "      <td>$10,500.00</td>\n",
       "      <td>1.0</td>\n",
       "      <td>30.0</td>\n",
       "    </tr>\n",
       "    <tr>\n",
       "      <th>976709</th>\n",
       "      <td>28347068</td>\n",
       "      <td>2021-02-24</td>\n",
       "      <td>f</td>\n",
       "      <td>$10,500.00</td>\n",
       "      <td>$10,500.00</td>\n",
       "      <td>1.0</td>\n",
       "      <td>30.0</td>\n",
       "    </tr>\n",
       "  </tbody>\n",
       "</table>\n",
       "<p>976710 rows × 7 columns</p>\n",
       "</div>"
      ],
      "text/plain": [
       "        listing_id       date available        price adjusted_price  \\\n",
       "0          4391546 2021-02-25         f   $9,500.00      $9,500.00    \n",
       "1          4606903 2021-02-25         f  $20,000.00     $20,000.00    \n",
       "2          6308465 2021-02-25         f  $50,000.00     $50,000.00    \n",
       "3          6428968 2021-02-25         f   $5,000.00      $5,000.00    \n",
       "4          1526132 2021-02-25         t   $6,980.00      $6,980.00    \n",
       "...            ...        ...       ...          ...            ...   \n",
       "976705    28347068 2021-02-20         f  $11,250.00     $11,250.00    \n",
       "976706    28347068 2021-02-21         f  $10,500.00     $10,500.00    \n",
       "976707    28347068 2021-02-22         f  $10,500.00     $10,500.00    \n",
       "976708    28347068 2021-02-23         f  $10,500.00     $10,500.00    \n",
       "976709    28347068 2021-02-24         f  $10,500.00     $10,500.00    \n",
       "\n",
       "        minimum_nights  maximum_nights  \n",
       "0                 30.0           120.0  \n",
       "1                  3.0            30.0  \n",
       "2                  1.0            90.0  \n",
       "3                  1.0            60.0  \n",
       "4                  2.0            30.0  \n",
       "...                ...             ...  \n",
       "976705             1.0            30.0  \n",
       "976706             1.0            30.0  \n",
       "976707             1.0            30.0  \n",
       "976708             1.0            30.0  \n",
       "976709             1.0            30.0  \n",
       "\n",
       "[976710 rows x 7 columns]"
      ]
     },
     "execution_count": 63,
     "metadata": {},
     "output_type": "execute_result"
    }
   ],
   "source": [
    "merged_df"
   ]
  },
  {
   "cell_type": "code",
   "execution_count": 62,
   "metadata": {},
   "outputs": [
    {
     "name": "stdout",
     "output_type": "stream",
     "text": [
      "Final merged_df shape: (976710, 7)\n",
      "Date range in merged_df: 2021-01-01 00:00:00 to 2021-12-31 00:00:00\n",
      "Unique listing_ids: 2685\n"
     ]
    }
   ],
   "source": [
    "print(f\"Final merged_df shape: {merged_df.shape}\")  # Should have 7 columns\n",
    "print(f\"Date range in merged_df: {merged_df['date'].min()} to {merged_df['date'].max()}\")\n",
    "print(f\"Unique listing_ids: {merged_df['listing_id'].nunique()}\")"
   ]
  },
  {
   "cell_type": "markdown",
   "metadata": {},
   "source": [
    "## Export CSV"
   ]
  },
  {
   "cell_type": "code",
   "execution_count": null,
   "metadata": {},
   "outputs": [],
   "source": [
    "merged_df.to_csv('..\\data\\Airbnb_Tokyo_2021\\Tokyo_2021_calendar.csv')"
   ]
  },
  {
   "cell_type": "markdown",
   "metadata": {},
   "source": [
    "# Airbnb Listings Tokyo 2021"
   ]
  },
  {
   "cell_type": "markdown",
   "metadata": {},
   "source": [
    "## Import Dataset\n",
    "- Tokyo_202_calendar.csv\n",
    "- Tokyo_listings.csv"
   ]
  },
  {
   "cell_type": "code",
   "execution_count": null,
   "metadata": {},
   "outputs": [
    {
     "name": "stdout",
     "output_type": "stream",
     "text": [
      "<class 'pandas.core.frame.DataFrame'>\n",
      "RangeIndex: 976710 entries, 0 to 976709\n",
      "Data columns (total 7 columns):\n",
      " #   Column          Non-Null Count   Dtype  \n",
      "---  ------          --------------   -----  \n",
      " 0   listing_id      976710 non-null  int64  \n",
      " 1   date            976710 non-null  object \n",
      " 2   available       976710 non-null  object \n",
      " 3   price           976655 non-null  object \n",
      " 4   adjusted_price  976655 non-null  float64\n",
      " 5   minimum_nights  976623 non-null  float64\n",
      " 6   maximum_nights  976623 non-null  float64\n",
      "dtypes: float64(3), int64(1), object(3)\n",
      "memory usage: 52.2+ MB\n"
     ]
    }
   ],
   "source": [
    "df3 = pd.read_csv(r\"..\\data\\Airbnb_Tokyo_2021\\Tokyo_2021_calendar.csv\")\n",
    "df3.info()"
   ]
  },
  {
   "cell_type": "code",
   "execution_count": 80,
   "metadata": {},
   "outputs": [
    {
     "name": "stdout",
     "output_type": "stream",
     "text": [
      "<class 'pandas.core.frame.DataFrame'>\n",
      "RangeIndex: 11308 entries, 0 to 11307\n",
      "Data columns (total 74 columns):\n",
      " #   Column                                        Non-Null Count  Dtype  \n",
      "---  ------                                        --------------  -----  \n",
      " 0   id                                            11308 non-null  int64  \n",
      " 1   listing_url                                   11308 non-null  object \n",
      " 2   scrape_id                                     11308 non-null  float64\n",
      " 3   last_scraped                                  11308 non-null  object \n",
      " 4   name                                          11308 non-null  object \n",
      " 5   description                                   11306 non-null  object \n",
      " 6   neighborhood_overview                         8822 non-null   object \n",
      " 7   picture_url                                   11308 non-null  object \n",
      " 8   host_id                                       11308 non-null  int64  \n",
      " 9   host_url                                      11308 non-null  object \n",
      " 10  host_name                                     11290 non-null  object \n",
      " 11  host_since                                    11290 non-null  object \n",
      " 12  host_location                                 11290 non-null  object \n",
      " 13  host_about                                    7728 non-null   object \n",
      " 14  host_response_time                            9543 non-null   object \n",
      " 15  host_response_rate                            9543 non-null   object \n",
      " 16  host_acceptance_rate                          10399 non-null  object \n",
      " 17  host_is_superhost                             11290 non-null  object \n",
      " 18  host_thumbnail_url                            11290 non-null  object \n",
      " 19  host_picture_url                              11290 non-null  object \n",
      " 20  host_neighbourhood                            8204 non-null   object \n",
      " 21  host_listings_count                           11290 non-null  float64\n",
      " 22  host_total_listings_count                     11290 non-null  float64\n",
      " 23  host_verifications                            11290 non-null  object \n",
      " 24  host_has_profile_pic                          11290 non-null  object \n",
      " 25  host_identity_verified                        11290 non-null  object \n",
      " 26  neighbourhood                                 8822 non-null   object \n",
      " 27  neighbourhood_cleansed                        11308 non-null  object \n",
      " 28  neighbourhood_group_cleansed                  0 non-null      float64\n",
      " 29  latitude                                      11308 non-null  float64\n",
      " 30  longitude                                     11308 non-null  float64\n",
      " 31  property_type                                 11308 non-null  object \n",
      " 32  room_type                                     11308 non-null  object \n",
      " 33  accommodates                                  11308 non-null  int64  \n",
      " 34  bathrooms                                     0 non-null      float64\n",
      " 35  bathrooms_text                                11299 non-null  object \n",
      " 36  bedrooms                                      10296 non-null  float64\n",
      " 37  beds                                          11238 non-null  float64\n",
      " 38  amenities                                     11308 non-null  object \n",
      " 39  price                                         11308 non-null  object \n",
      " 40  minimum_nights                                11308 non-null  int64  \n",
      " 41  maximum_nights                                11308 non-null  int64  \n",
      " 42  minimum_minimum_nights                        11308 non-null  int64  \n",
      " 43  maximum_minimum_nights                        11308 non-null  int64  \n",
      " 44  minimum_maximum_nights                        11308 non-null  int64  \n",
      " 45  maximum_maximum_nights                        11308 non-null  int64  \n",
      " 46  minimum_nights_avg_ntm                        11308 non-null  float64\n",
      " 47  maximum_nights_avg_ntm                        11308 non-null  float64\n",
      " 48  calendar_updated                              0 non-null      float64\n",
      " 49  has_availability                              11308 non-null  object \n",
      " 50  availability_30                               11308 non-null  int64  \n",
      " 51  availability_60                               11308 non-null  int64  \n",
      " 52  availability_90                               11308 non-null  int64  \n",
      " 53  availability_365                              11308 non-null  int64  \n",
      " 54  calendar_last_scraped                         11308 non-null  object \n",
      " 55  number_of_reviews                             11308 non-null  int64  \n",
      " 56  number_of_reviews_ltm                         11308 non-null  int64  \n",
      " 57  number_of_reviews_l30d                        11308 non-null  int64  \n",
      " 58  first_review                                  9201 non-null   object \n",
      " 59  last_review                                   9201 non-null   object \n",
      " 60  review_scores_rating                          9191 non-null   float64\n",
      " 61  review_scores_accuracy                        9191 non-null   float64\n",
      " 62  review_scores_cleanliness                     9191 non-null   float64\n",
      " 63  review_scores_checkin                         9191 non-null   float64\n",
      " 64  review_scores_communication                   9191 non-null   float64\n",
      " 65  review_scores_location                        9191 non-null   float64\n",
      " 66  review_scores_value                           9191 non-null   float64\n",
      " 67  license                                       11286 non-null  object \n",
      " 68  instant_bookable                              11308 non-null  object \n",
      " 69  calculated_host_listings_count                11308 non-null  int64  \n",
      " 70  calculated_host_listings_count_entire_homes   11308 non-null  int64  \n",
      " 71  calculated_host_listings_count_private_rooms  11308 non-null  int64  \n",
      " 72  calculated_host_listings_count_shared_rooms   11308 non-null  int64  \n",
      " 73  reviews_per_month                             9201 non-null   float64\n",
      "dtypes: float64(20), int64(20), object(34)\n",
      "memory usage: 6.4+ MB\n"
     ]
    }
   ],
   "source": [
    "df4 = pd.read_csv(r\"C:\\Users\\thaop\\Desktop\\OneDrive - University of the Pacific\\2024 Fall\\MSBA 286\\project\\Cleaned Dataset - 2_12_2025\\Tokyo 2021 cleaned by Thao Pham\\Tokyo-listings.csv\")\n",
    "df4.info()"
   ]
  },
  {
   "cell_type": "markdown",
   "metadata": {},
   "source": [
    "## EDA"
   ]
  },
  {
   "cell_type": "code",
   "execution_count": 81,
   "metadata": {},
   "outputs": [
    {
     "data": {
      "text/plain": [
       "2685"
      ]
     },
     "execution_count": 81,
     "metadata": {},
     "output_type": "execute_result"
    }
   ],
   "source": [
    "df3['listing_id'].nunique()"
   ]
  },
  {
   "cell_type": "code",
   "execution_count": 82,
   "metadata": {},
   "outputs": [
    {
     "data": {
      "text/plain": [
       "11308"
      ]
     },
     "execution_count": 82,
     "metadata": {},
     "output_type": "execute_result"
    }
   ],
   "source": [
    "df4['id'].nunique()"
   ]
  },
  {
   "cell_type": "markdown",
   "metadata": {},
   "source": [
    "## Checking for Unique Values"
   ]
  },
  {
   "cell_type": "code",
   "execution_count": 89,
   "metadata": {},
   "outputs": [],
   "source": [
    "# Get the unique ids from df3\n",
    "unique_df3 = set(df3['listing_id'].unique())\n",
    "\n",
    "# Get the unique listing_ids from df4\n",
    "unique_df4 = set(df4['id'].unique())"
   ]
  },
  {
   "cell_type": "code",
   "execution_count": null,
   "metadata": {},
   "outputs": [
    {
     "name": "stdout",
     "output_type": "stream",
     "text": [
      "All listing_ids from df3 exist in df3: True\n",
      "Number of listing_ids from df3 that exist in df4: 2685\n",
      "Number of listing_ids from df3 that do not exist in df3: 0\n"
     ]
    }
   ],
   "source": [
    "# Check if all listing_ids from df3 exist in df4\n",
    "all_df3_in_df4 = unique_df3.issubset(unique_df4)\n",
    "\n",
    "# Count the number of listing_ids from df3 that exist in df4\n",
    "exist_df3_in_df4 = len(unique_df3.intersection(unique_df4))\n",
    "\n",
    "# Count the number of listing_ids from df3 that do not exist in df4\n",
    "non_exist_df3_in_df4 = len(unique_df3 - unique_df4)\n",
    "\n",
    "print(f'All listing_ids from df3 exist in df4: {all_df3_in_df4}')\n",
    "print(f'Number of listing_ids from df3 that exist in df4: {exist_df3_in_df4}')\n",
    "print(f'Number of listing_ids from df3 that do not exist in df3: {non_exist_df3_in_df4}')"
   ]
  },
  {
   "cell_type": "code",
   "execution_count": null,
   "metadata": {},
   "outputs": [
    {
     "name": "stdout",
     "output_type": "stream",
     "text": [
      "All listing_ids from df4 exist in df3: False\n",
      "Number of listing_ids from df4 that exist in df3: 2685\n",
      "Number of listing_ids from df4 that do not exist in df3: 8623\n"
     ]
    }
   ],
   "source": [
    "# Check if all listing_ids from df4 exist in df3\n",
    "all_df4_in_df3 = unique_df4.issubset(unique_df3)\n",
    "\n",
    "# Count the number of listing_ids from df4 that exist in df3\n",
    "exist_df4_in_df3 = len(unique_df4.intersection(unique_df3))\n",
    "\n",
    "# Count the number of listing_ids from df4 that do not exist in df3\n",
    "non_exist_df4_in_df3 = len(unique_df4 - unique_df3)\n",
    "\n",
    "print(f\"All ids from df4 exist in df3: {all_df4_in_df3}\")\n",
    "print(f\"Number of ids from df4 that exist in df3: {exist_df4_in_df3}\")\n",
    "print(f\"Number of ids from df4 that do not exist in df3: {non_exist_df4_in_df3}\")"
   ]
  },
  {
   "cell_type": "markdown",
   "metadata": {},
   "source": [
    "## Filtering Rows for `df4`\n",
    "### Step 1: Extract Unique `listing_id`s from `df3`/`merge_df`"
   ]
  },
  {
   "cell_type": "code",
   "execution_count": null,
   "metadata": {},
   "outputs": [],
   "source": [
    "# valid_ids = merged_df['listing_id'].unique()"
   ]
  },
  {
   "cell_type": "markdown",
   "metadata": {},
   "source": [
    "### Step 2: Filter `df4` to Keep Rosw with Matching `id`s"
   ]
  },
  {
   "cell_type": "code",
   "execution_count": null,
   "metadata": {},
   "outputs": [],
   "source": [
    "df4_filtered = df4[df4['id'].isin(unique_df3)] # alter: df4[df4['id'].isin(valid_ids)]"
   ]
  },
  {
   "cell_type": "markdown",
   "metadata": {},
   "source": [
    "### Step 3: Verify the Results"
   ]
  },
  {
   "cell_type": "code",
   "execution_count": 94,
   "metadata": {},
   "outputs": [
    {
     "name": "stdout",
     "output_type": "stream",
     "text": [
      "Number of rows in df3_filtered: 2685\n",
      "Number of unique ids in df3_filtered: 2685\n"
     ]
    }
   ],
   "source": [
    "print(f\"Number of rows in df3_filtered: {len(df4_filtered)}\")\n",
    "print(f\"Number of unique ids in df3_filtered: {df4_filtered['id'].nunique()}\")"
   ]
  },
  {
   "cell_type": "code",
   "execution_count": 95,
   "metadata": {},
   "outputs": [
    {
     "data": {
      "text/html": [
       "<div>\n",
       "<style scoped>\n",
       "    .dataframe tbody tr th:only-of-type {\n",
       "        vertical-align: middle;\n",
       "    }\n",
       "\n",
       "    .dataframe tbody tr th {\n",
       "        vertical-align: top;\n",
       "    }\n",
       "\n",
       "    .dataframe thead th {\n",
       "        text-align: right;\n",
       "    }\n",
       "</style>\n",
       "<table border=\"1\" class=\"dataframe\">\n",
       "  <thead>\n",
       "    <tr style=\"text-align: right;\">\n",
       "      <th></th>\n",
       "      <th>id</th>\n",
       "      <th>listing_url</th>\n",
       "      <th>scrape_id</th>\n",
       "      <th>last_scraped</th>\n",
       "      <th>name</th>\n",
       "      <th>description</th>\n",
       "      <th>neighborhood_overview</th>\n",
       "      <th>picture_url</th>\n",
       "      <th>host_id</th>\n",
       "      <th>host_url</th>\n",
       "      <th>...</th>\n",
       "      <th>review_scores_communication</th>\n",
       "      <th>review_scores_location</th>\n",
       "      <th>review_scores_value</th>\n",
       "      <th>license</th>\n",
       "      <th>instant_bookable</th>\n",
       "      <th>calculated_host_listings_count</th>\n",
       "      <th>calculated_host_listings_count_entire_homes</th>\n",
       "      <th>calculated_host_listings_count_private_rooms</th>\n",
       "      <th>calculated_host_listings_count_shared_rooms</th>\n",
       "      <th>reviews_per_month</th>\n",
       "    </tr>\n",
       "  </thead>\n",
       "  <tbody>\n",
       "    <tr>\n",
       "      <th>0</th>\n",
       "      <td>197677</td>\n",
       "      <td>https://www.airbnb.com/rooms/197677</td>\n",
       "      <td>2.021023e+13</td>\n",
       "      <td>2/26/2021</td>\n",
       "      <td>Oshiage Holiday Apartment</td>\n",
       "      <td>&lt;b&gt;The space&lt;/b&gt;&lt;br /&gt;We are happy to welcome ...</td>\n",
       "      <td>NaN</td>\n",
       "      <td>https://a0.muscache.com/pictures/38437056/d27f...</td>\n",
       "      <td>964081</td>\n",
       "      <td>https://www.airbnb.com/users/show/964081</td>\n",
       "      <td>...</td>\n",
       "      <td>10.0</td>\n",
       "      <td>9.0</td>\n",
       "      <td>10.0</td>\n",
       "      <td>M130003350</td>\n",
       "      <td>f</td>\n",
       "      <td>1</td>\n",
       "      <td>1</td>\n",
       "      <td>0</td>\n",
       "      <td>0</td>\n",
       "      <td>1.44</td>\n",
       "    </tr>\n",
       "    <tr>\n",
       "      <th>2</th>\n",
       "      <td>899003</td>\n",
       "      <td>https://www.airbnb.com/rooms/899003</td>\n",
       "      <td>2.021023e+13</td>\n",
       "      <td>2/27/2021</td>\n",
       "      <td>Classy room @Shinjuku, Takadanoba</td>\n",
       "      <td>..*+;.*:' Popular room in Airbnb@Tokyo *;+:..*...</td>\n",
       "      <td>NaN</td>\n",
       "      <td>https://a0.muscache.com/pictures/20005274/1df3...</td>\n",
       "      <td>4799233</td>\n",
       "      <td>https://www.airbnb.com/users/show/4799233</td>\n",
       "      <td>...</td>\n",
       "      <td>9.0</td>\n",
       "      <td>9.0</td>\n",
       "      <td>9.0</td>\n",
       "      <td>Other reasons | 【マンスリー契約】最低30泊以上の一時使用賃貸借契約を結びま...</td>\n",
       "      <td>f</td>\n",
       "      <td>2</td>\n",
       "      <td>2</td>\n",
       "      <td>0</td>\n",
       "      <td>0</td>\n",
       "      <td>0.95</td>\n",
       "    </tr>\n",
       "    <tr>\n",
       "      <th>3</th>\n",
       "      <td>1016831</td>\n",
       "      <td>https://www.airbnb.com/rooms/1016831</td>\n",
       "      <td>2.021023e+13</td>\n",
       "      <td>2/27/2021</td>\n",
       "      <td>WOMAN ONLY LICENSED ! Cosy &amp; Cat behnd Shibuya</td>\n",
       "      <td>female travellers here only.&lt;br /&gt;Sorry no boy...</td>\n",
       "      <td>The location is walkable distance to famous Sh...</td>\n",
       "      <td>https://a0.muscache.com/pictures/20134416/5c34...</td>\n",
       "      <td>5596383</td>\n",
       "      <td>https://www.airbnb.com/users/show/5596383</td>\n",
       "      <td>...</td>\n",
       "      <td>10.0</td>\n",
       "      <td>10.0</td>\n",
       "      <td>10.0</td>\n",
       "      <td>M130001107</td>\n",
       "      <td>f</td>\n",
       "      <td>1</td>\n",
       "      <td>0</td>\n",
       "      <td>1</td>\n",
       "      <td>0</td>\n",
       "      <td>2.19</td>\n",
       "    </tr>\n",
       "    <tr>\n",
       "      <th>4</th>\n",
       "      <td>1033276</td>\n",
       "      <td>https://www.airbnb.com/rooms/1033276</td>\n",
       "      <td>2.021023e+13</td>\n",
       "      <td>2/26/2021</td>\n",
       "      <td>private room @Senju area</td>\n",
       "      <td>Our house is new and clean &lt;br /&gt;Big hub stati...</td>\n",
       "      <td>There are shopping mall near Senjuohashi stati...</td>\n",
       "      <td>https://a0.muscache.com/pictures/71577415/b060...</td>\n",
       "      <td>5686404</td>\n",
       "      <td>https://www.airbnb.com/users/show/5686404</td>\n",
       "      <td>...</td>\n",
       "      <td>10.0</td>\n",
       "      <td>9.0</td>\n",
       "      <td>9.0</td>\n",
       "      <td>M130007760</td>\n",
       "      <td>f</td>\n",
       "      <td>2</td>\n",
       "      <td>0</td>\n",
       "      <td>2</td>\n",
       "      <td>0</td>\n",
       "      <td>0.76</td>\n",
       "    </tr>\n",
       "    <tr>\n",
       "      <th>5</th>\n",
       "      <td>1096292</td>\n",
       "      <td>https://www.airbnb.com/rooms/1096292</td>\n",
       "      <td>2.021023e+13</td>\n",
       "      <td>2/26/2021</td>\n",
       "      <td>Home stay with a Japanese language teacher fam...</td>\n",
       "      <td>★*:.★*:.  Must Read .:*★.:*★&lt;br /&gt;*:.Maximum 5...</td>\n",
       "      <td>This area Shinjuku is most convenient town in ...</td>\n",
       "      <td>https://a0.muscache.com/pictures/miso/Hosting-...</td>\n",
       "      <td>6018145</td>\n",
       "      <td>https://www.airbnb.com/users/show/6018145</td>\n",
       "      <td>...</td>\n",
       "      <td>10.0</td>\n",
       "      <td>10.0</td>\n",
       "      <td>10.0</td>\n",
       "      <td>M130002814</td>\n",
       "      <td>f</td>\n",
       "      <td>4</td>\n",
       "      <td>0</td>\n",
       "      <td>4</td>\n",
       "      <td>0</td>\n",
       "      <td>2.78</td>\n",
       "    </tr>\n",
       "  </tbody>\n",
       "</table>\n",
       "<p>5 rows × 74 columns</p>\n",
       "</div>"
      ],
      "text/plain": [
       "        id                           listing_url     scrape_id last_scraped  \\\n",
       "0   197677   https://www.airbnb.com/rooms/197677  2.021023e+13    2/26/2021   \n",
       "2   899003   https://www.airbnb.com/rooms/899003  2.021023e+13    2/27/2021   \n",
       "3  1016831  https://www.airbnb.com/rooms/1016831  2.021023e+13    2/27/2021   \n",
       "4  1033276  https://www.airbnb.com/rooms/1033276  2.021023e+13    2/26/2021   \n",
       "5  1096292  https://www.airbnb.com/rooms/1096292  2.021023e+13    2/26/2021   \n",
       "\n",
       "                                                name  \\\n",
       "0                          Oshiage Holiday Apartment   \n",
       "2                  Classy room @Shinjuku, Takadanoba   \n",
       "3     WOMAN ONLY LICENSED ! Cosy & Cat behnd Shibuya   \n",
       "4                           private room @Senju area   \n",
       "5  Home stay with a Japanese language teacher fam...   \n",
       "\n",
       "                                         description  \\\n",
       "0  <b>The space</b><br />We are happy to welcome ...   \n",
       "2  ..*+;.*:' Popular room in Airbnb@Tokyo *;+:..*...   \n",
       "3  female travellers here only.<br />Sorry no boy...   \n",
       "4  Our house is new and clean <br />Big hub stati...   \n",
       "5  ★*:.★*:.  Must Read .:*★.:*★<br />*:.Maximum 5...   \n",
       "\n",
       "                               neighborhood_overview  \\\n",
       "0                                                NaN   \n",
       "2                                                NaN   \n",
       "3  The location is walkable distance to famous Sh...   \n",
       "4  There are shopping mall near Senjuohashi stati...   \n",
       "5  This area Shinjuku is most convenient town in ...   \n",
       "\n",
       "                                         picture_url  host_id  \\\n",
       "0  https://a0.muscache.com/pictures/38437056/d27f...   964081   \n",
       "2  https://a0.muscache.com/pictures/20005274/1df3...  4799233   \n",
       "3  https://a0.muscache.com/pictures/20134416/5c34...  5596383   \n",
       "4  https://a0.muscache.com/pictures/71577415/b060...  5686404   \n",
       "5  https://a0.muscache.com/pictures/miso/Hosting-...  6018145   \n",
       "\n",
       "                                    host_url  ... review_scores_communication  \\\n",
       "0   https://www.airbnb.com/users/show/964081  ...                        10.0   \n",
       "2  https://www.airbnb.com/users/show/4799233  ...                         9.0   \n",
       "3  https://www.airbnb.com/users/show/5596383  ...                        10.0   \n",
       "4  https://www.airbnb.com/users/show/5686404  ...                        10.0   \n",
       "5  https://www.airbnb.com/users/show/6018145  ...                        10.0   \n",
       "\n",
       "  review_scores_location review_scores_value  \\\n",
       "0                    9.0                10.0   \n",
       "2                    9.0                 9.0   \n",
       "3                   10.0                10.0   \n",
       "4                    9.0                 9.0   \n",
       "5                   10.0                10.0   \n",
       "\n",
       "                                             license instant_bookable  \\\n",
       "0                                         M130003350                f   \n",
       "2  Other reasons | 【マンスリー契約】最低30泊以上の一時使用賃貸借契約を結びま...                f   \n",
       "3                                         M130001107                f   \n",
       "4                                         M130007760                f   \n",
       "5                                         M130002814                f   \n",
       "\n",
       "  calculated_host_listings_count calculated_host_listings_count_entire_homes  \\\n",
       "0                              1                                           1   \n",
       "2                              2                                           2   \n",
       "3                              1                                           0   \n",
       "4                              2                                           0   \n",
       "5                              4                                           0   \n",
       "\n",
       "  calculated_host_listings_count_private_rooms  \\\n",
       "0                                            0   \n",
       "2                                            0   \n",
       "3                                            1   \n",
       "4                                            2   \n",
       "5                                            4   \n",
       "\n",
       "  calculated_host_listings_count_shared_rooms reviews_per_month  \n",
       "0                                           0              1.44  \n",
       "2                                           0              0.95  \n",
       "3                                           0              2.19  \n",
       "4                                           0              0.76  \n",
       "5                                           0              2.78  \n",
       "\n",
       "[5 rows x 74 columns]"
      ]
     },
     "execution_count": 95,
     "metadata": {},
     "output_type": "execute_result"
    }
   ],
   "source": [
    "df4_filtered.head()"
   ]
  },
  {
   "cell_type": "code",
   "execution_count": 96,
   "metadata": {},
   "outputs": [
    {
     "name": "stdout",
     "output_type": "stream",
     "text": [
      "<class 'pandas.core.frame.DataFrame'>\n",
      "Index: 2685 entries, 0 to 2946\n",
      "Data columns (total 74 columns):\n",
      " #   Column                                        Non-Null Count  Dtype  \n",
      "---  ------                                        --------------  -----  \n",
      " 0   id                                            2685 non-null   int64  \n",
      " 1   listing_url                                   2685 non-null   object \n",
      " 2   scrape_id                                     2685 non-null   float64\n",
      " 3   last_scraped                                  2685 non-null   object \n",
      " 4   name                                          2685 non-null   object \n",
      " 5   description                                   2685 non-null   object \n",
      " 6   neighborhood_overview                         2176 non-null   object \n",
      " 7   picture_url                                   2685 non-null   object \n",
      " 8   host_id                                       2685 non-null   int64  \n",
      " 9   host_url                                      2685 non-null   object \n",
      " 10  host_name                                     2681 non-null   object \n",
      " 11  host_since                                    2681 non-null   object \n",
      " 12  host_location                                 2681 non-null   object \n",
      " 13  host_about                                    2215 non-null   object \n",
      " 14  host_response_time                            2170 non-null   object \n",
      " 15  host_response_rate                            2170 non-null   object \n",
      " 16  host_acceptance_rate                          2411 non-null   object \n",
      " 17  host_is_superhost                             2681 non-null   object \n",
      " 18  host_thumbnail_url                            2681 non-null   object \n",
      " 19  host_picture_url                              2681 non-null   object \n",
      " 20  host_neighbourhood                            2194 non-null   object \n",
      " 21  host_listings_count                           2681 non-null   float64\n",
      " 22  host_total_listings_count                     2681 non-null   float64\n",
      " 23  host_verifications                            2681 non-null   object \n",
      " 24  host_has_profile_pic                          2681 non-null   object \n",
      " 25  host_identity_verified                        2681 non-null   object \n",
      " 26  neighbourhood                                 2176 non-null   object \n",
      " 27  neighbourhood_cleansed                        2685 non-null   object \n",
      " 28  neighbourhood_group_cleansed                  0 non-null      float64\n",
      " 29  latitude                                      2685 non-null   float64\n",
      " 30  longitude                                     2685 non-null   float64\n",
      " 31  property_type                                 2685 non-null   object \n",
      " 32  room_type                                     2685 non-null   object \n",
      " 33  accommodates                                  2685 non-null   int64  \n",
      " 34  bathrooms                                     0 non-null      float64\n",
      " 35  bathrooms_text                                2685 non-null   object \n",
      " 36  bedrooms                                      2405 non-null   float64\n",
      " 37  beds                                          2685 non-null   float64\n",
      " 38  amenities                                     2685 non-null   object \n",
      " 39  price                                         2685 non-null   object \n",
      " 40  minimum_nights                                2685 non-null   int64  \n",
      " 41  maximum_nights                                2685 non-null   int64  \n",
      " 42  minimum_minimum_nights                        2685 non-null   int64  \n",
      " 43  maximum_minimum_nights                        2685 non-null   int64  \n",
      " 44  minimum_maximum_nights                        2685 non-null   int64  \n",
      " 45  maximum_maximum_nights                        2685 non-null   int64  \n",
      " 46  minimum_nights_avg_ntm                        2685 non-null   float64\n",
      " 47  maximum_nights_avg_ntm                        2685 non-null   float64\n",
      " 48  calendar_updated                              0 non-null      float64\n",
      " 49  has_availability                              2685 non-null   object \n",
      " 50  availability_30                               2685 non-null   int64  \n",
      " 51  availability_60                               2685 non-null   int64  \n",
      " 52  availability_90                               2685 non-null   int64  \n",
      " 53  availability_365                              2685 non-null   int64  \n",
      " 54  calendar_last_scraped                         2685 non-null   object \n",
      " 55  number_of_reviews                             2685 non-null   int64  \n",
      " 56  number_of_reviews_ltm                         2685 non-null   int64  \n",
      " 57  number_of_reviews_l30d                        2685 non-null   int64  \n",
      " 58  first_review                                  2639 non-null   object \n",
      " 59  last_review                                   2639 non-null   object \n",
      " 60  review_scores_rating                          2638 non-null   float64\n",
      " 61  review_scores_accuracy                        2638 non-null   float64\n",
      " 62  review_scores_cleanliness                     2638 non-null   float64\n",
      " 63  review_scores_checkin                         2638 non-null   float64\n",
      " 64  review_scores_communication                   2638 non-null   float64\n",
      " 65  review_scores_location                        2638 non-null   float64\n",
      " 66  review_scores_value                           2638 non-null   float64\n",
      " 67  license                                       2685 non-null   object \n",
      " 68  instant_bookable                              2685 non-null   object \n",
      " 69  calculated_host_listings_count                2685 non-null   int64  \n",
      " 70  calculated_host_listings_count_entire_homes   2685 non-null   int64  \n",
      " 71  calculated_host_listings_count_private_rooms  2685 non-null   int64  \n",
      " 72  calculated_host_listings_count_shared_rooms   2685 non-null   int64  \n",
      " 73  reviews_per_month                             2639 non-null   float64\n",
      "dtypes: float64(20), int64(20), object(34)\n",
      "memory usage: 1.5+ MB\n"
     ]
    }
   ],
   "source": [
    "df4_filtered.info()"
   ]
  },
  {
   "cell_type": "markdown",
   "metadata": {},
   "source": [
    "## Export CSV"
   ]
  },
  {
   "cell_type": "code",
   "execution_count": 97,
   "metadata": {},
   "outputs": [],
   "source": [
    "df4_filtered.to_csv('Tokyo_2021_listing.csv')"
   ]
  },
  {
   "cell_type": "markdown",
   "metadata": {},
   "source": [
    "## Check for Duplicates"
   ]
  },
  {
   "cell_type": "markdown",
   "metadata": {},
   "source": [
    "### Duplicates in `df1`"
   ]
  },
  {
   "cell_type": "code",
   "execution_count": 98,
   "metadata": {},
   "outputs": [
    {
     "name": "stdout",
     "output_type": "stream",
     "text": [
      "Results for df1:\n",
      "- Total rows: 887404\n",
      "- Unique listing_ids: 2874\n",
      "- Total duplicate rows: 884530\n",
      "- Number of listing_ids with duplicates: 2874\n",
      "- Example duplicated listing_ids (ID: count):\n",
      "listing_id\n",
      "6750472     310\n",
      "28209969    310\n",
      "27994110    310\n",
      "28269901    310\n",
      "11049003    310\n"
     ]
    }
   ],
   "source": [
    "# Check duplicates in df1\n",
    "total_rows_df1 = len(df1)\n",
    "unique_listing_ids_df1 = df1['listing_id'].nunique()\n",
    "duplicate_rows_df1 = total_rows_df1 - unique_listing_ids_df1\n",
    "duplicated_ids_df1 = df1['listing_id'].value_counts()[df1['listing_id'].value_counts() > 1]\n",
    "\n",
    "print(\"Results for df1:\")\n",
    "print(f\"- Total rows: {total_rows_df1}\")\n",
    "print(f\"- Unique listing_ids: {unique_listing_ids_df1}\")\n",
    "print(f\"- Total duplicate rows: {duplicate_rows_df1}\")\n",
    "print(f\"- Number of listing_ids with duplicates: {len(duplicated_ids_df1)}\")\n",
    "if not duplicated_ids_df1.empty:\n",
    "    print(\"- Example duplicated listing_ids (ID: count):\")\n",
    "    print(duplicated_ids_df1.head().to_string())"
   ]
  },
  {
   "cell_type": "markdown",
   "metadata": {},
   "source": [
    "### Duplicates in `df2`"
   ]
  },
  {
   "cell_type": "code",
   "execution_count": 99,
   "metadata": {},
   "outputs": [
    {
     "name": "stdout",
     "output_type": "stream",
     "text": [
      "\n",
      "Results for df2:\n",
      "- Total rows: 901961\n",
      "- Unique listing_ids: 15551\n",
      "- Total duplicate rows: 886410\n",
      "- Number of listing_ids with duplicates: 15551\n",
      "- Example duplicated listing_ids (ID: count):\n",
      "listing_id\n",
      "38526633    61\n",
      "370759      58\n",
      "5527486     58\n",
      "3871442     58\n",
      "3885341     58\n"
     ]
    }
   ],
   "source": [
    "# Check duplicates in df2\n",
    "total_rows_df2 = len(df2)\n",
    "unique_listing_ids_df2 = df2['listing_id'].nunique()\n",
    "duplicate_rows_df2 = total_rows_df2 - unique_listing_ids_df2\n",
    "duplicated_ids_df2 = df2['listing_id'].value_counts()[df2['listing_id'].value_counts() > 1]\n",
    "\n",
    "print(\"\\nResults for df2:\")\n",
    "print(f\"- Total rows: {total_rows_df2}\")\n",
    "print(f\"- Unique listing_ids: {unique_listing_ids_df2}\")\n",
    "print(f\"- Total duplicate rows: {duplicate_rows_df2}\")\n",
    "print(f\"- Number of listing_ids with duplicates: {len(duplicated_ids_df2)}\")\n",
    "if not duplicated_ids_df2.empty:\n",
    "    print(\"- Example duplicated listing_ids (ID: count):\")\n",
    "    print(duplicated_ids_df2.head().to_string())"
   ]
  },
  {
   "cell_type": "markdown",
   "metadata": {},
   "source": [
    "### Duplicates in `df4`"
   ]
  },
  {
   "cell_type": "code",
   "execution_count": null,
   "metadata": {},
   "outputs": [
    {
     "name": "stdout",
     "output_type": "stream",
     "text": [
      "\n",
      "Results for df4:\n",
      "- Total rows: 11308\n",
      "- Unique ids: 11308\n",
      "- Total duplicate rows: 0\n",
      "- Number of ids with duplicates: 0\n"
     ]
    }
   ],
   "source": [
    "# Check duplicates in df4\n",
    "total_rows_df4 = len(df4)\n",
    "unique_ids_df4 = df4['id'].nunique()\n",
    "duplicate_rows_df4 = total_rows_df4 - unique_ids_df4\n",
    "duplicated_ids_df4 = df4['id'].value_counts()[df4['id'].value_counts() > 1]\n",
    "\n",
    "print(\"\\nResults for df4:\")\n",
    "print(f\"- Total rows: {total_rows_df4}\")\n",
    "print(f\"- Unique ids: {unique_ids_df4}\")\n",
    "print(f\"- Total duplicate rows: {duplicate_rows_df4}\")\n",
    "print(f\"- Number of ids with duplicates: {len(duplicated_ids_df4)}\")\n",
    "if not duplicated_ids_df4.empty:\n",
    "    print(\"- Example duplicated ids (ID: count):\")\n",
    "    print(duplicated_ids_df4.head().to_string())"
   ]
  },
  {
   "cell_type": "markdown",
   "metadata": {},
   "source": [
    "### Duplicates in `merged_df`"
   ]
  },
  {
   "cell_type": "code",
   "execution_count": 102,
   "metadata": {},
   "outputs": [
    {
     "name": "stdout",
     "output_type": "stream",
     "text": [
      "\n",
      "Results for merged_df:\n",
      "- Total rows: 976710\n",
      "- Unique listing_ids: 2685\n",
      "- Total duplicate rows: 974025\n",
      "- Number of listing_ids with duplicates: 2685\n",
      "- Example duplicated listing_ids (ID: count):\n",
      "listing_id\n",
      "22590719    365\n",
      "27843553    365\n",
      "28021551    365\n",
      "28035202    365\n",
      "27853052    365\n"
     ]
    }
   ],
   "source": [
    "# Check duplicates in merged_df\n",
    "total_rows_merged_df = len(merged_df)\n",
    "unique_listing_ids_merged_df = merged_df['listing_id'].nunique()\n",
    "duplicate_rows_merged_df = total_rows_merged_df - unique_listing_ids_merged_df\n",
    "duplicated_ids_merged_df = merged_df['listing_id'].value_counts()[merged_df['listing_id'].value_counts() > 1]\n",
    "\n",
    "print(\"\\nResults for merged_df:\")\n",
    "print(f\"- Total rows: {total_rows_merged_df}\")\n",
    "print(f\"- Unique listing_ids: {unique_listing_ids_merged_df}\")\n",
    "print(f\"- Total duplicate rows: {duplicate_rows_merged_df}\")\n",
    "print(f\"- Number of listing_ids with duplicates: {len(duplicated_ids_merged_df)}\")\n",
    "if not duplicated_ids_merged_df.empty:\n",
    "    print(\"- Example duplicated listing_ids (ID: count):\")\n",
    "    print(duplicated_ids_merged_df.head().to_string())"
   ]
  },
  {
   "cell_type": "code",
   "execution_count": 104,
   "metadata": {},
   "outputs": [
    {
     "data": {
      "text/html": [
       "<div>\n",
       "<style scoped>\n",
       "    .dataframe tbody tr th:only-of-type {\n",
       "        vertical-align: middle;\n",
       "    }\n",
       "\n",
       "    .dataframe tbody tr th {\n",
       "        vertical-align: top;\n",
       "    }\n",
       "\n",
       "    .dataframe thead th {\n",
       "        text-align: right;\n",
       "    }\n",
       "</style>\n",
       "<table border=\"1\" class=\"dataframe\">\n",
       "  <thead>\n",
       "    <tr style=\"text-align: right;\">\n",
       "      <th></th>\n",
       "      <th>listing_id</th>\n",
       "      <th>date</th>\n",
       "      <th>available</th>\n",
       "      <th>price</th>\n",
       "      <th>adjusted_price</th>\n",
       "      <th>minimum_nights</th>\n",
       "      <th>maximum_nights</th>\n",
       "    </tr>\n",
       "  </thead>\n",
       "  <tbody>\n",
       "    <tr>\n",
       "      <th>250</th>\n",
       "      <td>22590719</td>\n",
       "      <td>2021-02-25</td>\n",
       "      <td>f</td>\n",
       "      <td>$10,500.00</td>\n",
       "      <td>$3,675.00</td>\n",
       "      <td>1.0</td>\n",
       "      <td>1125.0</td>\n",
       "    </tr>\n",
       "    <tr>\n",
       "      <th>1554</th>\n",
       "      <td>22590719</td>\n",
       "      <td>2021-02-26</td>\n",
       "      <td>f</td>\n",
       "      <td>$10,500.00</td>\n",
       "      <td>$3,675.00</td>\n",
       "      <td>1.0</td>\n",
       "      <td>1125.0</td>\n",
       "    </tr>\n",
       "    <tr>\n",
       "      <th>3977</th>\n",
       "      <td>22590719</td>\n",
       "      <td>2021-02-27</td>\n",
       "      <td>f</td>\n",
       "      <td>$10,500.00</td>\n",
       "      <td>$3,675.00</td>\n",
       "      <td>1.0</td>\n",
       "      <td>1125.0</td>\n",
       "    </tr>\n",
       "    <tr>\n",
       "      <th>6662</th>\n",
       "      <td>22590719</td>\n",
       "      <td>2021-02-28</td>\n",
       "      <td>f</td>\n",
       "      <td>$10,500.00</td>\n",
       "      <td>$3,675.00</td>\n",
       "      <td>1.0</td>\n",
       "      <td>1125.0</td>\n",
       "    </tr>\n",
       "    <tr>\n",
       "      <th>9347</th>\n",
       "      <td>22590719</td>\n",
       "      <td>2021-03-01</td>\n",
       "      <td>f</td>\n",
       "      <td>$10,500.00</td>\n",
       "      <td>$3,675.00</td>\n",
       "      <td>1.0</td>\n",
       "      <td>1125.0</td>\n",
       "    </tr>\n",
       "    <tr>\n",
       "      <th>...</th>\n",
       "      <td>...</td>\n",
       "      <td>...</td>\n",
       "      <td>...</td>\n",
       "      <td>...</td>\n",
       "      <td>...</td>\n",
       "      <td>...</td>\n",
       "      <td>...</td>\n",
       "    </tr>\n",
       "    <tr>\n",
       "      <th>914445</th>\n",
       "      <td>22590719</td>\n",
       "      <td>2021-02-20</td>\n",
       "      <td>f</td>\n",
       "      <td>$10,000.00</td>\n",
       "      <td>$10,000.00</td>\n",
       "      <td>1.0</td>\n",
       "      <td>1125.0</td>\n",
       "    </tr>\n",
       "    <tr>\n",
       "      <th>914446</th>\n",
       "      <td>22590719</td>\n",
       "      <td>2021-02-21</td>\n",
       "      <td>f</td>\n",
       "      <td>$10,000.00</td>\n",
       "      <td>$10,000.00</td>\n",
       "      <td>1.0</td>\n",
       "      <td>1125.0</td>\n",
       "    </tr>\n",
       "    <tr>\n",
       "      <th>914447</th>\n",
       "      <td>22590719</td>\n",
       "      <td>2021-02-22</td>\n",
       "      <td>f</td>\n",
       "      <td>$10,000.00</td>\n",
       "      <td>$10,000.00</td>\n",
       "      <td>1.0</td>\n",
       "      <td>1125.0</td>\n",
       "    </tr>\n",
       "    <tr>\n",
       "      <th>914448</th>\n",
       "      <td>22590719</td>\n",
       "      <td>2021-02-23</td>\n",
       "      <td>f</td>\n",
       "      <td>$10,000.00</td>\n",
       "      <td>$10,000.00</td>\n",
       "      <td>1.0</td>\n",
       "      <td>1125.0</td>\n",
       "    </tr>\n",
       "    <tr>\n",
       "      <th>914449</th>\n",
       "      <td>22590719</td>\n",
       "      <td>2021-02-24</td>\n",
       "      <td>f</td>\n",
       "      <td>$10,000.00</td>\n",
       "      <td>$10,000.00</td>\n",
       "      <td>1.0</td>\n",
       "      <td>1125.0</td>\n",
       "    </tr>\n",
       "  </tbody>\n",
       "</table>\n",
       "<p>365 rows × 7 columns</p>\n",
       "</div>"
      ],
      "text/plain": [
       "        listing_id       date available        price adjusted_price  \\\n",
       "250       22590719 2021-02-25         f  $10,500.00      $3,675.00    \n",
       "1554      22590719 2021-02-26         f  $10,500.00      $3,675.00    \n",
       "3977      22590719 2021-02-27         f  $10,500.00      $3,675.00    \n",
       "6662      22590719 2021-02-28         f  $10,500.00      $3,675.00    \n",
       "9347      22590719 2021-03-01         f  $10,500.00      $3,675.00    \n",
       "...            ...        ...       ...          ...            ...   \n",
       "914445    22590719 2021-02-20         f  $10,000.00     $10,000.00    \n",
       "914446    22590719 2021-02-21         f  $10,000.00     $10,000.00    \n",
       "914447    22590719 2021-02-22         f  $10,000.00     $10,000.00    \n",
       "914448    22590719 2021-02-23         f  $10,000.00     $10,000.00    \n",
       "914449    22590719 2021-02-24         f  $10,000.00     $10,000.00    \n",
       "\n",
       "        minimum_nights  maximum_nights  \n",
       "250                1.0          1125.0  \n",
       "1554               1.0          1125.0  \n",
       "3977               1.0          1125.0  \n",
       "6662               1.0          1125.0  \n",
       "9347               1.0          1125.0  \n",
       "...                ...             ...  \n",
       "914445             1.0          1125.0  \n",
       "914446             1.0          1125.0  \n",
       "914447             1.0          1125.0  \n",
       "914448             1.0          1125.0  \n",
       "914449             1.0          1125.0  \n",
       "\n",
       "[365 rows x 7 columns]"
      ]
     },
     "execution_count": 104,
     "metadata": {},
     "output_type": "execute_result"
    }
   ],
   "source": [
    "merged_df.query('listing_id == 22590719')"
   ]
  }
 ],
 "metadata": {
  "kernelspec": {
   "display_name": "DataScienceStudy",
   "language": "python",
   "name": "python3"
  },
  "language_info": {
   "codemirror_mode": {
    "name": "ipython",
    "version": 3
   },
   "file_extension": ".py",
   "mimetype": "text/x-python",
   "name": "python",
   "nbconvert_exporter": "python",
   "pygments_lexer": "ipython3",
   "version": "3.12.9"
  }
 },
 "nbformat": 4,
 "nbformat_minor": 2
}
