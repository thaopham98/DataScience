{
 "cells": [
  {
   "cell_type": "markdown",
   "metadata": {},
   "source": [
    "# Classification with Perceptron Learning Algorithm (PLA)\n",
    "1. [Setup](#setup)\n",
    "2. [Load data](#import-data)\n",
    "3. [Data Preprocessing](#data-preprocessing)\n",
    "    - [Split Data](#split-data)\n",
    "    - [Scale Data](#scale-data)\n",
    "4. [Buid Model](#build-classification-model-with-pla)\n",
    "5. [Prediction](#prediction)\n",
    "6. [Evaluate Model](#evaluate-model)\n",
    "7. [Data Visualization](#data-visualization)\n",
    "8. [Conclusion](#conclusion)"
   ]
  },
  {
   "cell_type": "markdown",
   "metadata": {},
   "source": [
    "## Setup"
   ]
  },
  {
   "cell_type": "code",
   "execution_count": 1,
   "metadata": {},
   "outputs": [],
   "source": [
    "import pandas as pd \n",
    "import numpy as np\n",
    "from sklearn.model_selection import train_test_split\n",
    "import matplotlib.pyplot as plt\n",
    "from sklearn.linear_model import Perceptron\n",
    "from sklearn.metrics import classification_report, accuracy_score, precision_score, recall_score, f1_score, confusion_matrix\n",
    "from sklearn.preprocessing import StandardScaler"
   ]
  },
  {
   "cell_type": "markdown",
   "metadata": {},
   "source": [
    "## Import Data"
   ]
  },
  {
   "cell_type": "code",
   "execution_count": 2,
   "metadata": {},
   "outputs": [],
   "source": [
    "df = pd.read_csv('../data/movieData.csv')"
   ]
  },
  {
   "cell_type": "markdown",
   "metadata": {},
   "source": [
    "## EDA"
   ]
  },
  {
   "cell_type": "code",
   "execution_count": 3,
   "metadata": {},
   "outputs": [
    {
     "name": "stdout",
     "output_type": "stream",
     "text": [
      "Data Shape: (13, 3)\n",
      "<class 'pandas.core.frame.DataFrame'>\n",
      "RangeIndex: 13 entries, 0 to 12\n",
      "Data columns (total 3 columns):\n",
      " #   Column           Non-Null Count  Dtype  \n",
      "---  ------           --------------  -----  \n",
      " 0   LevelOfViolence  13 non-null     int64  \n",
      " 1   CriticsRating    13 non-null     float64\n",
      " 2   Watched          13 non-null     int64  \n",
      "dtypes: float64(1), int64(2)\n",
      "memory usage: 444.0 bytes\n",
      "Data Information: None\n",
      "Data Description:        LevelOfViolence  CriticsRating    Watched\n",
      "count        13.000000      13.000000  13.000000\n",
      "mean          2.615385       3.138462  -0.230769\n",
      "std           1.445595       1.267898   1.012739\n",
      "min           1.000000       1.200000  -1.000000\n",
      "25%           1.000000       2.100000  -1.000000\n",
      "50%           3.000000       3.000000  -1.000000\n",
      "75%           3.000000       4.200000   1.000000\n",
      "max           5.000000       4.900000   1.000000\n",
      "Unique Values in Watched: [-1  1]\n",
      "Level of Violence: min=1, max=5\n",
      "Critics Rating: min=1.2, max=4.9\n"
     ]
    },
    {
     "data": {
      "text/html": [
       "<div>\n",
       "<style scoped>\n",
       "    .dataframe tbody tr th:only-of-type {\n",
       "        vertical-align: middle;\n",
       "    }\n",
       "\n",
       "    .dataframe tbody tr th {\n",
       "        vertical-align: top;\n",
       "    }\n",
       "\n",
       "    .dataframe thead th {\n",
       "        text-align: right;\n",
       "    }\n",
       "</style>\n",
       "<table border=\"1\" class=\"dataframe\">\n",
       "  <thead>\n",
       "    <tr style=\"text-align: right;\">\n",
       "      <th></th>\n",
       "      <th>LevelOfViolence</th>\n",
       "      <th>CriticsRating</th>\n",
       "      <th>Watched</th>\n",
       "    </tr>\n",
       "  </thead>\n",
       "  <tbody>\n",
       "    <tr>\n",
       "      <th>0</th>\n",
       "      <td>1</td>\n",
       "      <td>1.2</td>\n",
       "      <td>-1</td>\n",
       "    </tr>\n",
       "    <tr>\n",
       "      <th>1</th>\n",
       "      <td>1</td>\n",
       "      <td>3.5</td>\n",
       "      <td>1</td>\n",
       "    </tr>\n",
       "    <tr>\n",
       "      <th>2</th>\n",
       "      <td>1</td>\n",
       "      <td>4.2</td>\n",
       "      <td>1</td>\n",
       "    </tr>\n",
       "    <tr>\n",
       "      <th>3</th>\n",
       "      <td>2</td>\n",
       "      <td>3.9</td>\n",
       "      <td>1</td>\n",
       "    </tr>\n",
       "    <tr>\n",
       "      <th>4</th>\n",
       "      <td>2</td>\n",
       "      <td>2.8</td>\n",
       "      <td>-1</td>\n",
       "    </tr>\n",
       "  </tbody>\n",
       "</table>\n",
       "</div>"
      ],
      "text/plain": [
       "   LevelOfViolence  CriticsRating  Watched\n",
       "0                1            1.2       -1\n",
       "1                1            3.5        1\n",
       "2                1            4.2        1\n",
       "3                2            3.9        1\n",
       "4                2            2.8       -1"
      ]
     },
     "execution_count": 3,
     "metadata": {},
     "output_type": "execute_result"
    }
   ],
   "source": [
    "print(f'Data Shape: {df.shape}')\n",
    "print(f'Data Information: {df.info()}')\n",
    "print(f'Data Description: {df.describe()}')\n",
    "print(f'Unique Values in Watched: {df['Watched'].unique()}')\n",
    "print(f\"Level of Violence: min={df['LevelOfViolence'].min()}, max={df['LevelOfViolence'].max()}\")\n",
    "print(f\"Critics Rating: min={df['CriticsRating'].min()}, max={df['CriticsRating'].max()}\")\n",
    "df.head()"
   ]
  },
  {
   "cell_type": "markdown",
   "metadata": {},
   "source": [
    "### Figure 1: Level of Violence vs. Critics Rating by Watched and Not Watched Movies"
   ]
  },
  {
   "cell_type": "code",
   "execution_count": null,
   "metadata": {},
   "outputs": [
    {
     "data": {
      "image/png": "[encoded data removed]",
      "text/plain": [
       "<Figure size 640x480 with 1 Axes>"
      ]
     },
     "metadata": {},
     "output_type": "display_data"
    }
   ],
   "source": [
    "''' Define x and y for watched and not watch '''\n",
    "# Watched data points\n",
    "x_watched = df[df['Watched'] == 1]['LevelOfViolence']\n",
    "y_watched = df[df['Watched']== 1]['CriticsRating']\n",
    "\n",
    "# Not Watched data points\n",
    "x_not = df[df['Watched'] == -1]['LevelOfViolence']\n",
    "y_not = df[df['Watched']== -1]['CriticsRating']\n",
    "\n",
    "''' Creating the plot '''\n",
    "plt.scatter(x_watched, y_watched, color='blue', label='Watched') # watched movies\n",
    "plt.scatter(x_not, y_not, color='red', label='Not Watched') # not watched movies\n",
    "\n",
    "# title, labels, legend\n",
    "plt.title('Level of Violence vs. Critics Rating by Watched and Not Watched Movies')\n",
    "plt.xlabel('Level of Violence')\n",
    "plt.ylabel('Critics Rating')\n",
    "plt.legend(loc='lower right')\n",
    "\n",
    "plt.show() # display the plot"
   ]
  },
  {
   "cell_type": "markdown",
   "metadata": {},
   "source": [
    "### Interpretation\n",
    "The dataset contains 13 rows and 3 columns (**LevelOfViolence**, **CriticsRating**, and **Watched**). \n",
    "In each level of violence, all **watched** movies have higher critics rating than **not watched** movies based on **Figure 1**. "
   ]
  },
  {
   "cell_type": "markdown",
   "metadata": {},
   "source": [
    "## Data Preprocessing\n",
    "To avoid **data leakage**, it is best to **split data** before **scale data**.\n",
    "\n",
    "*Explain*: Scaling before splitting can lead to data leakage, where information from the test set inadvertently influences the training process.\n",
    "\n",
    "For example, if scaling the entire dataset before splitting, the scaling parameters (e.g., mean and standard deviation for `StandardScaler`) will be influenced by the test data. This can artificially inflate the model's performance because the model has indirectly \"seen\" the test data during training."
   ]
  },
  {
   "cell_type": "markdown",
   "metadata": {},
   "source": [
    "### Split Data\n",
    "Since this is a supervised learning, specifically classification, a type of machine learning where the model learns from labeled data (features and target). It's best to identify the features (independent variables) and target (dependent variable) before building the model. \n",
    "\n",
    "\n",
    "Splitting the dataset into training and testing sets. The training set will be used to train the model, while the testing set will be used for the trained model to predict the classification. "
   ]
  },
  {
   "cell_type": "code",
   "execution_count": 4,
   "metadata": {},
   "outputs": [],
   "source": [
    "# Features (independent variables)\n",
    "X = df[['LevelOfViolence', 'CriticsRating']]\n",
    "\n",
    "# Target (dependent variable)\n",
    "y = df['Watched']"
   ]
  },
  {
   "cell_type": "code",
   "execution_count": 5,
   "metadata": {},
   "outputs": [],
   "source": [
    "# Split the data into training and testing sets\n",
    "X_train, X_test, y_train, y_test = train_test_split(X, y, test_size=0.2, random_state=123)"
   ]
  },
  {
   "cell_type": "code",
   "execution_count": 6,
   "metadata": {},
   "outputs": [
    {
     "name": "stdout",
     "output_type": "stream",
     "text": [
      "Training Set: (10, 2), (10,)\n",
      "Testing Set: (3, 2), (3,)\n"
     ]
    }
   ],
   "source": [
    "print(f\"Training Set: {X_train.shape}, {y_train.shape}\")\n",
    "print(f\"Testing Set: {X_test.shape}, {y_test.shape}\")"
   ]
  },
  {
   "cell_type": "code",
   "execution_count": 127,
   "metadata": {},
   "outputs": [
    {
     "name": "stdout",
     "output_type": "stream",
     "text": [
      "    LevelOfViolence  CriticsRating\n",
      "0                 1            1.2\n",
      "5                 3            3.0\n",
      "9                 3            4.8\n",
      "8                 1            2.1\n",
      "11                3            1.5\n",
      "3                 2            3.9\n",
      "1                 1            3.5\n",
      "6                 5            4.5\n",
      "12                3            2.6\n",
      "2                 1            4.2 \n",
      "     LevelOfViolence  CriticsRating\n",
      "7                 4            1.8\n",
      "10                5            4.9\n",
      "4                 2            2.8\n"
     ]
    }
   ],
   "source": [
    "print(X_train,'\\n',X_test)"
   ]
  },
  {
   "cell_type": "markdown",
   "metadata": {},
   "source": [
    "### Figure 2: Data Visualization\n",
    "- Right now, `X_train` and `X_test` are **DataFrame** and not **Numpy array**, `iloc`method will be used for indexing. \n",
    "\n",
    "\n",
    "- Create a figure with 1 row and 2 columns of subplots. The `figsize` parameter sets the size of the figure to 12 inches by 6 inches.\n",
    "- Plot the training set of the 1st subplot (`axes[0]`) and testing set of the 2nd subplot (`axes[1]`). The `scatter` function creates a scatter plot with:\n",
    "    - `X_train.iloc[:,0]` as the x-axis values of training set.\n",
    "    - `X_train.iloc[:,1]` as the y-axis values of training set.\n",
    "    - `X_test.iloc[:,0]` as the x-axis values of testing set.\n",
    "    - `X_test.iloc[:,1]` as the y-axis values of testing set.\n",
    "    - `c=y_train` and `c=y_test` to color the points based on their class labels of training and testing sets.\n",
    "    - `edgecolors='k'` to set the edge color of the points to black.\n",
    "    - `marker='o'` to use circle markers.\n",
    "    - `label=y_train` and `label=y_test` to label the points (used for the legend).\n",
    "- Set the title, x-axis label, and y-axis label for both subplots.\n",
    "- Create a legend for each subplot using the `legend_elements` method of the scatter plot. The `title=\"Classes\"` sets the title of the legend. The `add_artist` method adds the legend to the subplot.\n",
    "- Adjust the layout of the subplots to prevent overlap using `tight_layout`. Display the figure with the subplots using `show`."
   ]
  },
  {
   "cell_type": "code",
   "execution_count": 8,
   "metadata": {},
   "outputs": [
    {
     "data": {
      "image/png": "[encoded data removed]",
      "text/plain": [
       "<Figure size 1200x600 with 2 Axes>"
      ]
     },
     "metadata": {},
     "output_type": "display_data"
    }
   ],
   "source": [
    "# Create a figure with subplots\n",
    "fig, axes = plt.subplots(nrows=1, ncols=2, figsize=(12, 6))\n",
    "\n",
    "# Plot training set\n",
    "axes[0].scatter(X_train[y_train == 1].iloc[:, 0], X_train[y_train == 1].iloc[:, 1], color='blue', label='Watched')\n",
    "axes[0].scatter(X_train[y_train == -1].iloc[:, 0], X_train[y_train == -1].iloc[:, 1], color='red', label='Not Watched')\n",
    "# scatter_train = axes[0].scatter(X_train.iloc[:, 0], X_train.iloc[:, 1], c=y_train, edgecolors='k', marker='o', label=y_train)\n",
    "\n",
    "axes[0].set_title('Subplot of Training Set')\n",
    "axes[0].set_xlabel('Level of Violence')\n",
    "axes[0].set_ylabel('Critics Rating')\n",
    "    # Add legend\n",
    "# legend1 = axes[0].legend(*scatter_train.legend_elements(), title=\"Classes\")\n",
    "# axes[0].add_artist(legend1)\n",
    "axes[0].legend(loc='lower right')\n",
    "\n",
    "\n",
    "# Plot testing set\n",
    "axes[1].scatter(X_test[y_test == 1].iloc[:, 0], X_test[y_test == 1].iloc[:, 1], color='blue', label='Watched')\n",
    "axes[1].scatter(X_test[y_test == -1].iloc[:, 0], X_test[y_test == -1].iloc[:, 1], color='red', label='Not Watched')\n",
    "# scatter_test = axes[1].scatter(X_test.iloc[:, 0], X_test.iloc[:, 1], c=y_test, edgecolors='k', marker='o', label=y_test)\n",
    "\n",
    "axes[1].set_title('Subplot of Testing Set')\n",
    "axes[1].set_xlabel('Level of Violence')\n",
    "axes[1].set_ylabel('Critics Rating')\n",
    "    # Add legend\n",
    "# legend2 = axes[1].legend(*scatter_test.legend_elements(), title=\"Classes\")\n",
    "# axes[1].add_artist(legend2)\n",
    "axes[1].legend(loc='lower right')\n",
    "\n",
    "\n",
    "# Show the plots\n",
    "plt.tight_layout()\n",
    "plt.show()"
   ]
  },
  {
   "cell_type": "markdown",
   "metadata": {},
   "source": [
    "### Scale Data\n",
    "`LevelOfViolence` and `CriticsRating` are in a similar range, scaling is still a good practice for many machine learning algorithms, including the Perceptron. Scaling ensures that no single feature dominates the learning process due to its larger magnitude. For example, `CriticsRating` has decimal values, while `LevelOfViolence` is integer-based, which could still cause issues."
   ]
  },
  {
   "cell_type": "code",
   "execution_count": null,
   "metadata": {},
   "outputs": [],
   "source": [
    "# Standardizing the data\n",
    "scaler = StandardScaler()\n",
    "X_train_scaled = scaler.fit_transform(X_train)  # Fit and transform the training data\n",
    "X_test_scaled = scaler.transform(X_test)  # Only transform the test data"
   ]
  },
  {
   "cell_type": "markdown",
   "metadata": {},
   "source": [
    "### Class Labels\n",
    "The `Perceptron` in sklearn expects class labels to be `[0, 1]` by default, but the **Watched** column has values `[-1, 1]`. While the `Perceptron` can technically work with `[-1, 1]` labels, it’s safer to convert them to `[0, 1]` to avoid any unexpected behavior."
   ]
  },
  {
   "cell_type": "code",
   "execution_count": 130,
   "metadata": {},
   "outputs": [],
   "source": [
    "# y = df['Watched'].replace({-1: 0, 1: 1})\n",
    "# print(y.value_counts())"
   ]
  },
  {
   "cell_type": "markdown",
   "metadata": {},
   "source": [
    "## Build Classification Model with PLA\n",
    "Building a Perceptron Learning Algorithm using the [`Perceptron` class](https://scikit-learn.org/stable/modules/generated/sklearn.linear_model.Perceptron.html#sklearn.linear_model.Perceptron) available on [`sklearn Perceptron`](https://scikit-learn.org/stable/modules/linear_model.html#perceptron:~:text=for%20more%20details.-,1.1.14.%20Perceptron,-%23). \n",
    "\n",
    "The `Perceptron` is another simple classification algorithm suitable for large scale learning. By default:\n",
    "- It does not require a learning rate.\n",
    "- It is not regularized (penalized).\n",
    "- It updates its model only on mistakes."
   ]
  },
  {
   "cell_type": "code",
   "execution_count": 10,
   "metadata": {},
   "outputs": [
    {
     "data": {
      "text/html": [
       "<style>#sk-container-id-1 {\n",
       "  /* Definition of color scheme common for light and dark mode */\n",
       "  --sklearn-color-text: black;\n",
       "  --sklearn-color-line: gray;\n",
       "  /* Definition of color scheme for unfitted estimators */\n",
       "  --sklearn-color-unfitted-level-0: #fff5e6;\n",
       "  --sklearn-color-unfitted-level-1: #f6e4d2;\n",
       "  --sklearn-color-unfitted-level-2: #ffe0b3;\n",
       "  --sklearn-color-unfitted-level-3: chocolate;\n",
       "  /* Definition of color scheme for fitted estimators */\n",
       "  --sklearn-color-fitted-level-0: #f0f8ff;\n",
       "  --sklearn-color-fitted-level-1: #d4ebff;\n",
       "  --sklearn-color-fitted-level-2: #b3dbfd;\n",
       "  --sklearn-color-fitted-level-3: cornflowerblue;\n",
       "\n",
       "  /* Specific color for light theme */\n",
       "  --sklearn-color-text-on-default-background: var(--sg-text-color, var(--theme-code-foreground, var(--jp-content-font-color1, black)));\n",
       "  --sklearn-color-background: var(--sg-background-color, var(--theme-background, var(--jp-layout-color0, white)));\n",
       "  --sklearn-color-border-box: var(--sg-text-color, var(--theme-code-foreground, var(--jp-content-font-color1, black)));\n",
       "  --sklearn-color-icon: #696969;\n",
       "\n",
       "  @media (prefers-color-scheme: dark) {\n",
       "    /* Redefinition of color scheme for dark theme */\n",
       "    --sklearn-color-text-on-default-background: var(--sg-text-color, var(--theme-code-foreground, var(--jp-content-font-color1, white)));\n",
       "    --sklearn-color-background: var(--sg-background-color, var(--theme-background, var(--jp-layout-color0, #111)));\n",
       "    --sklearn-color-border-box: var(--sg-text-color, var(--theme-code-foreground, var(--jp-content-font-color1, white)));\n",
       "    --sklearn-color-icon: #878787;\n",
       "  }\n",
       "}\n",
       "\n",
       "#sk-container-id-1 {\n",
       "  color: var(--sklearn-color-text);\n",
       "}\n",
       "\n",
       "#sk-container-id-1 pre {\n",
       "  padding: 0;\n",
       "}\n",
       "\n",
       "#sk-container-id-1 input.sk-hidden--visually {\n",
       "  border: 0;\n",
       "  clip: rect(1px 1px 1px 1px);\n",
       "  clip: rect(1px, 1px, 1px, 1px);\n",
       "  height: 1px;\n",
       "  margin: -1px;\n",
       "  overflow: hidden;\n",
       "  padding: 0;\n",
       "  position: absolute;\n",
       "  width: 1px;\n",
       "}\n",
       "\n",
       "#sk-container-id-1 div.sk-dashed-wrapped {\n",
       "  border: 1px dashed var(--sklearn-color-line);\n",
       "  margin: 0 0.4em 0.5em 0.4em;\n",
       "  box-sizing: border-box;\n",
       "  padding-bottom: 0.4em;\n",
       "  background-color: var(--sklearn-color-background);\n",
       "}\n",
       "\n",
       "#sk-container-id-1 div.sk-container {\n",
       "  /* jupyter's `normalize.less` sets `[hidden] { display: none; }`\n",
       "     but bootstrap.min.css set `[hidden] { display: none !important; }`\n",
       "     so we also need the `!important` here to be able to override the\n",
       "     default hidden behavior on the sphinx rendered scikit-learn.org.\n",
       "     See: https://github.com/scikit-learn/scikit-learn/issues/21755 */\n",
       "  display: inline-block !important;\n",
       "  position: relative;\n",
       "}\n",
       "\n",
       "#sk-container-id-1 div.sk-text-repr-fallback {\n",
       "  display: none;\n",
       "}\n",
       "\n",
       "div.sk-parallel-item,\n",
       "div.sk-serial,\n",
       "div.sk-item {\n",
       "  /* draw centered vertical line to link estimators */\n",
       "  background-image: linear-gradient(var(--sklearn-color-text-on-default-background), var(--sklearn-color-text-on-default-background));\n",
       "  background-size: 2px 100%;\n",
       "  background-repeat: no-repeat;\n",
       "  background-position: center center;\n",
       "}\n",
       "\n",
       "/* Parallel-specific style estimator block */\n",
       "\n",
       "#sk-container-id-1 div.sk-parallel-item::after {\n",
       "  content: \"\";\n",
       "  width: 100%;\n",
       "  border-bottom: 2px solid var(--sklearn-color-text-on-default-background);\n",
       "  flex-grow: 1;\n",
       "}\n",
       "\n",
       "#sk-container-id-1 div.sk-parallel {\n",
       "  display: flex;\n",
       "  align-items: stretch;\n",
       "  justify-content: center;\n",
       "  background-color: var(--sklearn-color-background);\n",
       "  position: relative;\n",
       "}\n",
       "\n",
       "#sk-container-id-1 div.sk-parallel-item {\n",
       "  display: flex;\n",
       "  flex-direction: column;\n",
       "}\n",
       "\n",
       "#sk-container-id-1 div.sk-parallel-item:first-child::after {\n",
       "  align-self: flex-end;\n",
       "  width: 50%;\n",
       "}\n",
       "\n",
       "#sk-container-id-1 div.sk-parallel-item:last-child::after {\n",
       "  align-self: flex-start;\n",
       "  width: 50%;\n",
       "}\n",
       "\n",
       "#sk-container-id-1 div.sk-parallel-item:only-child::after {\n",
       "  width: 0;\n",
       "}\n",
       "\n",
       "/* Serial-specific style estimator block */\n",
       "\n",
       "#sk-container-id-1 div.sk-serial {\n",
       "  display: flex;\n",
       "  flex-direction: column;\n",
       "  align-items: center;\n",
       "  background-color: var(--sklearn-color-background);\n",
       "  padding-right: 1em;\n",
       "  padding-left: 1em;\n",
       "}\n",
       "\n",
       "\n",
       "/* Toggleable style: style used for estimator/Pipeline/ColumnTransformer box that is\n",
       "clickable and can be expanded/collapsed.\n",
       "- Pipeline and ColumnTransformer use this feature and define the default style\n",
       "- Estimators will overwrite some part of the style using the `sk-estimator` class\n",
       "*/\n",
       "\n",
       "/* Pipeline and ColumnTransformer style (default) */\n",
       "\n",
       "#sk-container-id-1 div.sk-toggleable {\n",
       "  /* Default theme specific background. It is overwritten whether we have a\n",
       "  specific estimator or a Pipeline/ColumnTransformer */\n",
       "  background-color: var(--sklearn-color-background);\n",
       "}\n",
       "\n",
       "/* Toggleable label */\n",
       "#sk-container-id-1 label.sk-toggleable__label {\n",
       "  cursor: pointer;\n",
       "  display: block;\n",
       "  width: 100%;\n",
       "  margin-bottom: 0;\n",
       "  padding: 0.5em;\n",
       "  box-sizing: border-box;\n",
       "  text-align: center;\n",
       "}\n",
       "\n",
       "#sk-container-id-1 label.sk-toggleable__label-arrow:before {\n",
       "  /* Arrow on the left of the label */\n",
       "  content: \"▸\";\n",
       "  float: left;\n",
       "  margin-right: 0.25em;\n",
       "  color: var(--sklearn-color-icon);\n",
       "}\n",
       "\n",
       "#sk-container-id-1 label.sk-toggleable__label-arrow:hover:before {\n",
       "  color: var(--sklearn-color-text);\n",
       "}\n",
       "\n",
       "/* Toggleable content - dropdown */\n",
       "\n",
       "#sk-container-id-1 div.sk-toggleable__content {\n",
       "  max-height: 0;\n",
       "  max-width: 0;\n",
       "  overflow: hidden;\n",
       "  text-align: left;\n",
       "  /* unfitted */\n",
       "  background-color: var(--sklearn-color-unfitted-level-0);\n",
       "}\n",
       "\n",
       "#sk-container-id-1 div.sk-toggleable__content.fitted {\n",
       "  /* fitted */\n",
       "  background-color: var(--sklearn-color-fitted-level-0);\n",
       "}\n",
       "\n",
       "#sk-container-id-1 div.sk-toggleable__content pre {\n",
       "  margin: 0.2em;\n",
       "  border-radius: 0.25em;\n",
       "  color: var(--sklearn-color-text);\n",
       "  /* unfitted */\n",
       "  background-color: var(--sklearn-color-unfitted-level-0);\n",
       "}\n",
       "\n",
       "#sk-container-id-1 div.sk-toggleable__content.fitted pre {\n",
       "  /* unfitted */\n",
       "  background-color: var(--sklearn-color-fitted-level-0);\n",
       "}\n",
       "\n",
       "#sk-container-id-1 input.sk-toggleable__control:checked~div.sk-toggleable__content {\n",
       "  /* Expand drop-down */\n",
       "  max-height: 200px;\n",
       "  max-width: 100%;\n",
       "  overflow: auto;\n",
       "}\n",
       "\n",
       "#sk-container-id-1 input.sk-toggleable__control:checked~label.sk-toggleable__label-arrow:before {\n",
       "  content: \"▾\";\n",
       "}\n",
       "\n",
       "/* Pipeline/ColumnTransformer-specific style */\n",
       "\n",
       "#sk-container-id-1 div.sk-label input.sk-toggleable__control:checked~label.sk-toggleable__label {\n",
       "  color: var(--sklearn-color-text);\n",
       "  background-color: var(--sklearn-color-unfitted-level-2);\n",
       "}\n",
       "\n",
       "#sk-container-id-1 div.sk-label.fitted input.sk-toggleable__control:checked~label.sk-toggleable__label {\n",
       "  background-color: var(--sklearn-color-fitted-level-2);\n",
       "}\n",
       "\n",
       "/* Estimator-specific style */\n",
       "\n",
       "/* Colorize estimator box */\n",
       "#sk-container-id-1 div.sk-estimator input.sk-toggleable__control:checked~label.sk-toggleable__label {\n",
       "  /* unfitted */\n",
       "  background-color: var(--sklearn-color-unfitted-level-2);\n",
       "}\n",
       "\n",
       "#sk-container-id-1 div.sk-estimator.fitted input.sk-toggleable__control:checked~label.sk-toggleable__label {\n",
       "  /* fitted */\n",
       "  background-color: var(--sklearn-color-fitted-level-2);\n",
       "}\n",
       "\n",
       "#sk-container-id-1 div.sk-label label.sk-toggleable__label,\n",
       "#sk-container-id-1 div.sk-label label {\n",
       "  /* The background is the default theme color */\n",
       "  color: var(--sklearn-color-text-on-default-background);\n",
       "}\n",
       "\n",
       "/* On hover, darken the color of the background */\n",
       "#sk-container-id-1 div.sk-label:hover label.sk-toggleable__label {\n",
       "  color: var(--sklearn-color-text);\n",
       "  background-color: var(--sklearn-color-unfitted-level-2);\n",
       "}\n",
       "\n",
       "/* Label box, darken color on hover, fitted */\n",
       "#sk-container-id-1 div.sk-label.fitted:hover label.sk-toggleable__label.fitted {\n",
       "  color: var(--sklearn-color-text);\n",
       "  background-color: var(--sklearn-color-fitted-level-2);\n",
       "}\n",
       "\n",
       "/* Estimator label */\n",
       "\n",
       "#sk-container-id-1 div.sk-label label {\n",
       "  font-family: monospace;\n",
       "  font-weight: bold;\n",
       "  display: inline-block;\n",
       "  line-height: 1.2em;\n",
       "}\n",
       "\n",
       "#sk-container-id-1 div.sk-label-container {\n",
       "  text-align: center;\n",
       "}\n",
       "\n",
       "/* Estimator-specific */\n",
       "#sk-container-id-1 div.sk-estimator {\n",
       "  font-family: monospace;\n",
       "  border: 1px dotted var(--sklearn-color-border-box);\n",
       "  border-radius: 0.25em;\n",
       "  box-sizing: border-box;\n",
       "  margin-bottom: 0.5em;\n",
       "  /* unfitted */\n",
       "  background-color: var(--sklearn-color-unfitted-level-0);\n",
       "}\n",
       "\n",
       "#sk-container-id-1 div.sk-estimator.fitted {\n",
       "  /* fitted */\n",
       "  background-color: var(--sklearn-color-fitted-level-0);\n",
       "}\n",
       "\n",
       "/* on hover */\n",
       "#sk-container-id-1 div.sk-estimator:hover {\n",
       "  /* unfitted */\n",
       "  background-color: var(--sklearn-color-unfitted-level-2);\n",
       "}\n",
       "\n",
       "#sk-container-id-1 div.sk-estimator.fitted:hover {\n",
       "  /* fitted */\n",
       "  background-color: var(--sklearn-color-fitted-level-2);\n",
       "}\n",
       "\n",
       "/* Specification for estimator info (e.g. \"i\" and \"?\") */\n",
       "\n",
       "/* Common style for \"i\" and \"?\" */\n",
       "\n",
       ".sk-estimator-doc-link,\n",
       "a:link.sk-estimator-doc-link,\n",
       "a:visited.sk-estimator-doc-link {\n",
       "  float: right;\n",
       "  font-size: smaller;\n",
       "  line-height: 1em;\n",
       "  font-family: monospace;\n",
       "  background-color: var(--sklearn-color-background);\n",
       "  border-radius: 1em;\n",
       "  height: 1em;\n",
       "  width: 1em;\n",
       "  text-decoration: none !important;\n",
       "  margin-left: 1ex;\n",
       "  /* unfitted */\n",
       "  border: var(--sklearn-color-unfitted-level-1) 1pt solid;\n",
       "  color: var(--sklearn-color-unfitted-level-1);\n",
       "}\n",
       "\n",
       ".sk-estimator-doc-link.fitted,\n",
       "a:link.sk-estimator-doc-link.fitted,\n",
       "a:visited.sk-estimator-doc-link.fitted {\n",
       "  /* fitted */\n",
       "  border: var(--sklearn-color-fitted-level-1) 1pt solid;\n",
       "  color: var(--sklearn-color-fitted-level-1);\n",
       "}\n",
       "\n",
       "/* On hover */\n",
       "div.sk-estimator:hover .sk-estimator-doc-link:hover,\n",
       ".sk-estimator-doc-link:hover,\n",
       "div.sk-label-container:hover .sk-estimator-doc-link:hover,\n",
       ".sk-estimator-doc-link:hover {\n",
       "  /* unfitted */\n",
       "  background-color: var(--sklearn-color-unfitted-level-3);\n",
       "  color: var(--sklearn-color-background);\n",
       "  text-decoration: none;\n",
       "}\n",
       "\n",
       "div.sk-estimator.fitted:hover .sk-estimator-doc-link.fitted:hover,\n",
       ".sk-estimator-doc-link.fitted:hover,\n",
       "div.sk-label-container:hover .sk-estimator-doc-link.fitted:hover,\n",
       ".sk-estimator-doc-link.fitted:hover {\n",
       "  /* fitted */\n",
       "  background-color: var(--sklearn-color-fitted-level-3);\n",
       "  color: var(--sklearn-color-background);\n",
       "  text-decoration: none;\n",
       "}\n",
       "\n",
       "/* Span, style for the box shown on hovering the info icon */\n",
       ".sk-estimator-doc-link span {\n",
       "  display: none;\n",
       "  z-index: 9999;\n",
       "  position: relative;\n",
       "  font-weight: normal;\n",
       "  right: .2ex;\n",
       "  padding: .5ex;\n",
       "  margin: .5ex;\n",
       "  width: min-content;\n",
       "  min-width: 20ex;\n",
       "  max-width: 50ex;\n",
       "  color: var(--sklearn-color-text);\n",
       "  box-shadow: 2pt 2pt 4pt #999;\n",
       "  /* unfitted */\n",
       "  background: var(--sklearn-color-unfitted-level-0);\n",
       "  border: .5pt solid var(--sklearn-color-unfitted-level-3);\n",
       "}\n",
       "\n",
       ".sk-estimator-doc-link.fitted span {\n",
       "  /* fitted */\n",
       "  background: var(--sklearn-color-fitted-level-0);\n",
       "  border: var(--sklearn-color-fitted-level-3);\n",
       "}\n",
       "\n",
       ".sk-estimator-doc-link:hover span {\n",
       "  display: block;\n",
       "}\n",
       "\n",
       "/* \"?\"-specific style due to the `<a>` HTML tag */\n",
       "\n",
       "#sk-container-id-1 a.estimator_doc_link {\n",
       "  float: right;\n",
       "  font-size: 1rem;\n",
       "  line-height: 1em;\n",
       "  font-family: monospace;\n",
       "  background-color: var(--sklearn-color-background);\n",
       "  border-radius: 1rem;\n",
       "  height: 1rem;\n",
       "  width: 1rem;\n",
       "  text-decoration: none;\n",
       "  /* unfitted */\n",
       "  color: var(--sklearn-color-unfitted-level-1);\n",
       "  border: var(--sklearn-color-unfitted-level-1) 1pt solid;\n",
       "}\n",
       "\n",
       "#sk-container-id-1 a.estimator_doc_link.fitted {\n",
       "  /* fitted */\n",
       "  border: var(--sklearn-color-fitted-level-1) 1pt solid;\n",
       "  color: var(--sklearn-color-fitted-level-1);\n",
       "}\n",
       "\n",
       "/* On hover */\n",
       "#sk-container-id-1 a.estimator_doc_link:hover {\n",
       "  /* unfitted */\n",
       "  background-color: var(--sklearn-color-unfitted-level-3);\n",
       "  color: var(--sklearn-color-background);\n",
       "  text-decoration: none;\n",
       "}\n",
       "\n",
       "#sk-container-id-1 a.estimator_doc_link.fitted:hover {\n",
       "  /* fitted */\n",
       "  background-color: var(--sklearn-color-fitted-level-3);\n",
       "}\n",
       "</style><div id=\"sk-container-id-1\" class=\"sk-top-container\"><div class=\"sk-text-repr-fallback\"><pre>Perceptron(max_iter=50, random_state=123)</pre><b>In a Jupyter environment, please rerun this cell to show the HTML representation or trust the notebook. <br />On GitHub, the HTML representation is unable to render, please try loading this page with nbviewer.org.</b></div><div class=\"sk-container\" hidden><div class=\"sk-item\"><div class=\"sk-estimator fitted sk-toggleable\"><input class=\"sk-toggleable__control sk-hidden--visually\" id=\"sk-estimator-id-1\" type=\"checkbox\" checked><label for=\"sk-estimator-id-1\" class=\"sk-toggleable__label fitted sk-toggleable__label-arrow fitted\">&nbsp;&nbsp;Perceptron<a class=\"sk-estimator-doc-link fitted\" rel=\"noreferrer\" target=\"_blank\" href=\"https://scikit-learn.org/1.5/modules/generated/sklearn.linear_model.Perceptron.html\">?<span>Documentation for Perceptron</span></a><span class=\"sk-estimator-doc-link fitted\">i<span>Fitted</span></span></label><div class=\"sk-toggleable__content fitted\"><pre>Perceptron(max_iter=50, random_state=123)</pre></div> </div></div></div></div>"
      ],
      "text/plain": [
       "Perceptron(max_iter=50, random_state=123)"
      ]
     },
     "execution_count": 10,
     "metadata": {},
     "output_type": "execute_result"
    }
   ],
   "source": [
    "pla = Perceptron(max_iter=50, random_state=123)\n",
    "pla.fit(X_train_scaled, y_train)"
   ]
  },
  {
   "cell_type": "markdown",
   "metadata": {},
   "source": [
    "## Prediction"
   ]
  },
  {
   "cell_type": "code",
   "execution_count": 132,
   "metadata": {},
   "outputs": [],
   "source": [
    "# quickly evaluate the sklearn model without calling predict()\n",
    "# print(f\"Score: {pla.score(X_test_scaled, y_test)}\")"
   ]
  },
  {
   "cell_type": "code",
   "execution_count": 11,
   "metadata": {},
   "outputs": [],
   "source": [
    "y_pred = pla.predict(X_test_scaled) # predict the test data"
   ]
  },
  {
   "cell_type": "code",
   "execution_count": 12,
   "metadata": {},
   "outputs": [
    {
     "name": "stdout",
     "output_type": "stream",
     "text": [
      "Predicted labels: [-1  1 -1]\n"
     ]
    }
   ],
   "source": [
    "print(\"Predicted labels:\", y_pred)"
   ]
  },
  {
   "cell_type": "markdown",
   "metadata": {},
   "source": [
    "## Evaluate Model\n",
    "Use `accuracy_score()`:\n",
    " - When you want to compute accuracy explicitly.\n",
    " - When you are working with predictions generated outside of a scikit-learn model.\n",
    " - When you want to compare predictions from different models or frameworks.\n",
    "\n",
    "Use `score()`:\n",
    " - When you want a quick evaluation of a scikit-learn model's performance.\n",
    " - When you want to use the default evaluation metric for the model (e.g., accuracy for classifiers, R-square for regressors).\n",
    " - When you want to avoid manually computing predictions."
   ]
  },
  {
   "cell_type": "code",
   "execution_count": 135,
   "metadata": {},
   "outputs": [
    {
     "name": "stdout",
     "output_type": "stream",
     "text": [
      "Accuracy Score: 1.0\n",
      "Classification Report:\n",
      "               precision    recall  f1-score   support\n",
      "\n",
      "          -1       1.00      1.00      1.00         2\n",
      "           1       1.00      1.00      1.00         1\n",
      "\n",
      "    accuracy                           1.00         3\n",
      "   macro avg       1.00      1.00      1.00         3\n",
      "weighted avg       1.00      1.00      1.00         3\n",
      "\n",
      "Number of iterations: 10\n",
      "Intercept: [-1.]\n",
      "Final Weights/Coeffients: [[-2.1278981   4.04173487]]\n",
      "Coeficient Shape: (1, 2)\n"
     ]
    }
   ],
   "source": [
    "print(\"Accuracy Score:\", accuracy_score(y_test, y_pred))\n",
    "print(\"Classification Report:\\n\", classification_report(y_test, y_pred))\n",
    "print(f\"Number of iterations: {pla.n_iter_}\")\n",
    "print(f\"Intercept: {pla.intercept_}\")\n",
    "print(f\"Final Weights/Coeffients: {pla.coef_}\")\n",
    "print(f\"Coeficient Shape: {pla.coef_.shape}\")"
   ]
  },
  {
   "cell_type": "markdown",
   "metadata": {},
   "source": [
    "## Data Visualization\n",
    "Create a **mesh grid**, a commond technique used to visualize decision boundaries in classification problems.\n",
    " - Define the range\n",
    " - Create the grid\n",
    " - Predict on the grid\n",
    " - Plot the Decision Boundary Line (BDL)"
   ]
  },
  {
   "cell_type": "markdown",
   "metadata": {},
   "source": [
    "### Decision Boundary Plot on Scaled Data"
   ]
  },
  {
   "cell_type": "code",
   "execution_count": 14,
   "metadata": {},
   "outputs": [
    {
     "data": {
      "image/png": "[encoded data removed]",
      "text/plain": [
       "<Figure size 640x480 with 1 Axes>"
      ]
     },
     "metadata": {},
     "output_type": "display_data"
    }
   ],
   "source": [
    "# Scatter plot with decision boundary including all data points\n",
    "# plt.figure(figsize=(10, 6))\n",
    "\n",
    "# Plot the training set data points\n",
    "plt.scatter(X_train_scaled[y_train == 1][:, 0], X_train_scaled[y_train == 1][:, 1], color='blue', label='Watched (Train)')\n",
    "plt.scatter(X_train_scaled[y_train == -1][:, 0], X_train_scaled[y_train == -1][:, 1], color='red', label='Not Watched (Train)')\n",
    "\n",
    "# Plot the testing set data points\n",
    "plt.scatter(X_test_scaled[y_test == 1][:, 0], X_test_scaled[y_test == 1][:, 1], color='cyan', label='Watched (Test)', edgecolor='k')\n",
    "plt.scatter(X_test_scaled[y_test == -1][:, 0], X_test_scaled[y_test == -1][:, 1], color='magenta', label='Not Watched (Test)', edgecolor='k')\n",
    "\n",
    "# Create a mesh to plot the decision boundary\n",
    "x_min, x_max = X_train_scaled[:, 0].min() - 1, X_train_scaled[:, 0].max() + 1\n",
    "y_min, y_max = X_train_scaled[:, 1].min() - 1, X_train_scaled[:, 1].max() + 1\n",
    "xx, yy = np.meshgrid(np.arange(x_min, x_max, 0.01),\n",
    "                     np.arange(y_min, y_max, 0.01))\n",
    "\n",
    "# Predict the function value for the whole grid\n",
    "Z = pla.predict(np.c_[xx.ravel(), yy.ravel()])\n",
    "Z = Z.reshape(xx.shape)\n",
    "\n",
    "# Plot the decision boundary\n",
    "plt.contourf(xx, yy, Z, alpha=0.3, cmap=plt.cm.Paired)\n",
    "plt.title('Decision Boundary for Watched and Not Watched Movies')\n",
    "plt.xlabel('Level of Violence (scaled)')\n",
    "plt.ylabel('Critics Rating (scaled)')\n",
    "plt.legend(loc='lower right')\n",
    "plt.show()"
   ]
  },
  {
   "cell_type": "markdown",
   "metadata": {},
   "source": [
    "### Decision Boundary Plot on Unscaled Data"
   ]
  },
  {
   "cell_type": "code",
   "execution_count": 16,
   "metadata": {},
   "outputs": [
    {
     "data": {
      "image/png": "[encoded data removed]",
      "text/plain": [
       "<Figure size 640x480 with 1 Axes>"
      ]
     },
     "metadata": {},
     "output_type": "display_data"
    }
   ],
   "source": [
    "# Scatter plot with decision boundary including all data points\n",
    "# plt.figure(figsize=(10, 6))\n",
    "\n",
    "# Plot the training set data points\n",
    "plt.scatter(X_train[y_train == 1]['LevelOfViolence'], X_train[y_train == 1]['CriticsRating'], color='blue', label='Watched (Train)')\n",
    "plt.scatter(X_train[y_train == -1]['LevelOfViolence'], X_train[y_train == -1]['CriticsRating'], color='red', label='Not Watched (Train)')\n",
    "\n",
    "# Plot the testing set data points\n",
    "plt.scatter(X_test[y_test == 1]['LevelOfViolence'], X_test[y_test == 1]['CriticsRating'], color='cyan', label='Watched (Test)', edgecolor='k')\n",
    "plt.scatter(X_test[y_test == -1]['LevelOfViolence'], X_test[y_test == -1]['CriticsRating'], color='magenta', label='Not Watched (Test)', edgecolor='k')\n",
    "\n",
    "# Create a mesh to plot the decision boundary\n",
    "x_min, x_max = X['LevelOfViolence'].min() - 1, X['LevelOfViolence'].max() + 1\n",
    "y_min, y_max = X['CriticsRating'].min() - 1, X['CriticsRating'].max() + 1\n",
    "xx, yy = np.meshgrid(np.arange(x_min, x_max, 0.01),\n",
    "                     np.arange(y_min, y_max, 0.01))\n",
    "\n",
    "# Scale the mesh grid points using the same scaler\n",
    "mesh_points = np.c_[xx.ravel(), yy.ravel()]\n",
    "\n",
    "# Convert the mesh grid points to DataFrame with the same column names before scaling\n",
    "mesh_points_df = pd.DataFrame(mesh_points, columns=['LevelOfViolence', 'CriticsRating']) \n",
    "\n",
    "mesh_points_scaled = scaler.transform(mesh_points_df)\n",
    "\n",
    "# Predict the function value for the whole grid\n",
    "Z = pla.predict(mesh_points_scaled)\n",
    "Z = Z.reshape(xx.shape)\n",
    "\n",
    "# Plot the decision boundary\n",
    "plt.contourf(xx, yy, Z, alpha=0.3, cmap=plt.cm.Paired)\n",
    "plt.title('Decision Boundary for Watched and Not Watched Movies')\n",
    "plt.xlabel('Level of Violence')\n",
    "plt.ylabel('Critics Rating')\n",
    "plt.legend(loc='lower right')\n",
    "plt.show()"
   ]
  },
  {
   "cell_type": "markdown",
   "metadata": {},
   "source": [
    "### Decision Boundary Plot"
   ]
  },
  {
   "cell_type": "code",
   "execution_count": 15,
   "metadata": {},
   "outputs": [
    {
     "data": {
      "image/png": "[encoded data removed]",
      "text/plain": [
       "<Figure size 640x480 with 1 Axes>"
      ]
     },
     "metadata": {},
     "output_type": "display_data"
    }
   ],
   "source": [
    "# Scatter plot with decision boundary including all data points\n",
    "# plt.figure(figsize=(10, 6))\n",
    "\n",
    "# Watched\n",
    "x_watched = df[df['Watched'] == 1]['LevelOfViolence']\n",
    "y_watched = df[df['Watched']== 1]['CriticsRating']\n",
    "\n",
    "# Not Watched\n",
    "x_not = df[df['Watched'] == -1]['LevelOfViolence']\n",
    "y_not = df[df['Watched']== -1]['CriticsRating']\n",
    "\n",
    "''' Creating the plot '''\n",
    "plt.scatter(x_watched, y_watched, color='blue', label='Watched') # watched movies\n",
    "plt.scatter(x_not, y_not, color='red', label='Not Watched') # not watched movies\n",
    "\n",
    "# Create a mesh to plot the decision boundary\n",
    "x_min, x_max = X['LevelOfViolence'].min() - 1, X['LevelOfViolence'].max() + 1\n",
    "y_min, y_max = X['CriticsRating'].min() - 1, X['CriticsRating'].max() + 1\n",
    "xx, yy = np.meshgrid(np.arange(x_min, x_max, 0.01),\n",
    "                     np.arange(y_min, y_max, 0.01))\n",
    "\n",
    "# Scale the mesh grid points using the same scaler\n",
    "mesh_points = np.c_[xx.ravel(), yy.ravel()]\n",
    "\n",
    "# Convert the mesh grid points to DataFrame with the same column names before scaling\n",
    "mesh_points_df = pd.DataFrame(mesh_points, columns=['LevelOfViolence', 'CriticsRating']) \n",
    "\n",
    "mesh_points_scaled = scaler.transform(mesh_points_df)\n",
    "\n",
    "# Predict the function value for the whole grid\n",
    "Z = pla.predict(mesh_points_scaled)\n",
    "Z = Z.reshape(xx.shape)\n",
    "\n",
    "# Plot the decision boundary\n",
    "plt.contourf(xx, yy, Z, alpha=0.3, cmap=plt.cm.Paired)\n",
    "plt.title('Decision Boundary for Watched and Not Watched Movies')\n",
    "plt.xlabel('Level of Violence')\n",
    "plt.ylabel('Critics Rating')\n",
    "plt.legend(loc='lower right')\n",
    "plt.show()"
   ]
  },
  {
   "cell_type": "markdown",
   "metadata": {},
   "source": [
    "## Conclusion\n",
    "\n",
    "**Report on Perceptron Learning Algorithm (PLA) Model**\n",
    "\n",
    "**Purpose of the Model**\n",
    "\n",
    "The purpose of the Perceptron Learning Algorithm (PLA) model is to classify movies based on their level of violence and critics' ratings into two categories: \"Watched\" and \"Not Watched\". The model aims to find a linear decision boundary that separates these two classes.\n",
    "\n",
    "**Model Summary**\n",
    "- **Accuracy**: The model achieved an accuracy of 1.0, indicating perfect classification on the test set.\n",
    "- **Classification Report**:\n",
    " - **Precision**: 1.00 for both classes\n",
    " - **Recall**: 1.00 for both classes\n",
    " - **F1-Score**: 1.00 for both classes\n",
    " - **Support**: 2 for class -1 (Not Watched), 1 for class 1 (Watched)\n",
    " - **Macro Average**: 1.00 for precision, recall, and f1-score\n",
    " - **Weighted Average**: 1.00 for precision, recall, and f1-score\n",
    "\n",
    "**Model Parameters**\n",
    " - **Number of Iterations**: 10\n",
    " - **Intercept (Bias)**: -1.0\n",
    " - **Final Weights (Coefficients)**:\n",
    "  - Weight for `LevelOfViolence`: -2.1278981\n",
    "  - Weight for `CriticsRating`: 4.04173487\n",
    " - **Coefficient Shape**: (1, 2)\n",
    "\n",
    "**Decision Boundary**\n",
    "\n",
    "The decision boundary is a linear equation derived from the model's weights and intercept. The equation of the decision boundary is given by:\n",
    "\n",
    "**[ w_0 + w_1 \\cdot x_1 + w_2 \\cdot x_2 = 0 ]**\n",
    "\n",
    "Where:\n",
    "\n",
    "- ( w_0 ) is the intercept (bias)\n",
    "- ( w_1 ) and ( w_2 ) are the weights for `LevelOfViolence` and `CriticsRating`, respectively\n",
    "- ( x_1 ) and ( x_2 ) are the feature values for `LevelOfViolence` and `CriticsRating`, respectively\n",
    "Using the final weights and intercept: **[ -1.0 + (-2.1278981) \\cdot x_1 + 4.04173487 \\cdot x_2 = 0 ]**\n",
    "\n",
    "To plot the decision boundary:\n",
    "\n",
    "1. Solve for ( x_2 ) in terms of ( x_1 ): [ x_2 = \\frac{1.0 + 2.1278981 \\cdot x_1}{4.04173487} ]\n",
    "\n",
    "2. Create a range of values for ( x_1 ) and compute the corresponding ( x_2 ) values using the above equation."
   ]
  }
 ],
 "metadata": {
  "kernelspec": {
   "display_name": "DataScienceStudy",
   "language": "python",
   "name": "python3"
  },
  "language_info": {
   "codemirror_mode": {
    "name": "ipython",
    "version": 3
   },
   "file_extension": ".py",
   "mimetype": "text/x-python",
   "name": "python",
   "nbconvert_exporter": "python",
   "pygments_lexer": "ipython3",
   "version": "3.12.2"
  }
 },
 "nbformat": 4,
 "nbformat_minor": 2
}
