{
 "cells": [
  {
   "cell_type": "code",
   "execution_count": 1,
   "metadata": {},
   "outputs": [],
   "source": [
    "import pandas as pd"
   ]
  },
  {
   "cell_type": "markdown",
   "metadata": {},
   "source": [
    "## Load Data\n",
    "Reading an Excel file, `Beauty Price Track.xlsx`, which contains beauty related purchase history from various retailers. "
   ]
  },
  {
   "cell_type": "code",
   "execution_count": 2,
   "metadata": {},
   "outputs": [],
   "source": [
    "# makeup = pd.read_excel('../data/Beauty Price Track.xlsx', sheet_name='Makeup')\n",
    "# skincare = pd.read_excel('../data/Beauty Price Track.xlsx', sheet_name='Skincare')\n",
    "# haircare = pd.read_excel('../data/Beauty Price Track.xlsx', sheet_name='Haircare')\n",
    "# personalcare = pd.read_excel('../data/Beauty Price Track.xlsx', sheet_name='Personal Care')"
   ]
  },
  {
   "cell_type": "code",
   "execution_count": 6,
   "metadata": {},
   "outputs": [],
   "source": [
    "# Function to read the Excel sheet and assign a custom attribute for the sheet name\n",
    "def read_excel_with_sheet_name(file_path, sheet_name):\n",
    "    df = pd.read_excel(file_path, sheet_name=sheet_name)\n",
    "    df.sheet_name = sheet_name\n",
    "    return df\n",
    "\n",
    "# Read the Excel file and load the specific sheets into DataFrames with custom attribute\n",
    "makeup = read_excel_with_sheet_name('../data/Beauty Price Track.xlsx', 'Makeup')\n",
    "skincare = read_excel_with_sheet_name('../data/Beauty Price Track.xlsx', 'Skincare')\n",
    "haircare = read_excel_with_sheet_name('../data/Beauty Price Track.xlsx', 'Haircare')\n",
    "personalcare = read_excel_with_sheet_name('../data/Beauty Price Track.xlsx', 'Personal Care')\n"
   ]
  },
  {
   "cell_type": "markdown",
   "metadata": {},
   "source": [
    "## EDA"
   ]
  },
  {
   "cell_type": "markdown",
   "metadata": {},
   "source": [
    "### Customize Functions"
   ]
  },
  {
   "cell_type": "code",
   "execution_count": 37,
   "metadata": {},
   "outputs": [],
   "source": [
    "def sheetInfo(sheet):\n",
    "    print(f'{sheet.sheet_name} has {sheet.shape[0]} rows and {sheet.shape[1]} columns: \\n{sheet.columns}')\n",
    "    print(sheet.info())\n",
    "    display(sheet.head())  # Use display() in Jupyter Notebook to show the first 5 rows\n",
    "\n",
    "def missingData(sheet, column_name=None):\n",
    "    if column_name:\n",
    "        column = sheet[column_name]\n",
    "        print(f'{sheet.sheet_name} - {column_name} has {column.isnull().sum()} missing values')\n",
    "    else:\n",
    "        print(f'{sheet.sheet_name} has {sheet.isnull().sum().sum()} missing values: \\n{sheet.isnull().sum()}')"
   ]
  },
  {
   "cell_type": "code",
   "execution_count": 3,
   "metadata": {},
   "outputs": [],
   "source": [
    "''' \n",
    "Alternatively, you can use the following function to print the sheet information and missing data\n",
    "by passing the sheet and sheet name as arguments to the functions.\n",
    "'''\n",
    "# def sheetInfo(sheet, sheet_name):\n",
    "#     print(f'{sheet_name} has {sheet.shape[0]} rows and {sheet.shape[1]} columns: \\n{sheet.columns}')\n",
    "#     print(f'\\nInformation: {sheet.info()}')\n",
    "#     sheet.head()\n",
    "\n",
    "# def missingData(sheet, sheet_name):\n",
    "#     print(f'{sheet_name} has {sheet.isnull().sum().sum()} missing values: \\n{sheet.isnull().sum()}')\n",
    "\n",
    "# # Example usage\n",
    "# sheetInfo(makeup, 'Makeup')\n",
    "# missingData(makeup, 'Makeup')"
   ]
  },
  {
   "cell_type": "markdown",
   "metadata": {},
   "source": [
    "### Calling Functions"
   ]
  },
  {
   "cell_type": "code",
   "execution_count": 24,
   "metadata": {},
   "outputs": [
    {
     "name": "stdout",
     "output_type": "stream",
     "text": [
      "Makeup has 31 rows and 7 columns: \n",
      "Index(['Date', 'Brand', 'Product Name', 'Color', 'Size', 'Retailer', 'Price'], dtype='object')\n",
      "<class 'pandas.core.frame.DataFrame'>\n",
      "RangeIndex: 31 entries, 0 to 30\n",
      "Data columns (total 7 columns):\n",
      " #   Column        Non-Null Count  Dtype         \n",
      "---  ------        --------------  -----         \n",
      " 0   Date          31 non-null     datetime64[ns]\n",
      " 1   Brand         31 non-null     object        \n",
      " 2   Product Name  31 non-null     object        \n",
      " 3   Color         27 non-null     object        \n",
      " 4   Size          10 non-null     object        \n",
      " 5   Retailer      30 non-null     object        \n",
      " 6   Price         31 non-null     float64       \n",
      "dtypes: datetime64[ns](1), float64(1), object(5)\n",
      "memory usage: 1.8+ KB\n",
      "None\n"
     ]
    },
    {
     "data": {
      "text/html": [
       "<div>\n",
       "<style scoped>\n",
       "    .dataframe tbody tr th:only-of-type {\n",
       "        vertical-align: middle;\n",
       "    }\n",
       "\n",
       "    .dataframe tbody tr th {\n",
       "        vertical-align: top;\n",
       "    }\n",
       "\n",
       "    .dataframe thead th {\n",
       "        text-align: right;\n",
       "    }\n",
       "</style>\n",
       "<table border=\"1\" class=\"dataframe\">\n",
       "  <thead>\n",
       "    <tr style=\"text-align: right;\">\n",
       "      <th></th>\n",
       "      <th>Date</th>\n",
       "      <th>Brand</th>\n",
       "      <th>Product Name</th>\n",
       "      <th>Color</th>\n",
       "      <th>Size</th>\n",
       "      <th>Retailer</th>\n",
       "      <th>Price</th>\n",
       "    </tr>\n",
       "  </thead>\n",
       "  <tbody>\n",
       "    <tr>\n",
       "      <th>0</th>\n",
       "      <td>2022-09-21 00:00:00</td>\n",
       "      <td>romand</td>\n",
       "      <td>Han All Fix Mascara</td>\n",
       "      <td>L02 Long Ash</td>\n",
       "      <td>NaN</td>\n",
       "      <td>Yesstyle</td>\n",
       "      <td>10.70</td>\n",
       "    </tr>\n",
       "    <tr>\n",
       "      <th>1</th>\n",
       "      <td>2022-09-21 00:00:00</td>\n",
       "      <td>AMUSE</td>\n",
       "      <td>Dew Tint</td>\n",
       "      <td>#12 Sunday</td>\n",
       "      <td>NaN</td>\n",
       "      <td>Yesstyle</td>\n",
       "      <td>16.00</td>\n",
       "    </tr>\n",
       "    <tr>\n",
       "      <th>2</th>\n",
       "      <td>2022-09-21 01:03:00</td>\n",
       "      <td>CLIO</td>\n",
       "      <td>Sharp, So Simple Waterproof Pencil Liner</td>\n",
       "      <td>#02 Brown</td>\n",
       "      <td>NaN</td>\n",
       "      <td>Yesstyle</td>\n",
       "      <td>6.55</td>\n",
       "    </tr>\n",
       "    <tr>\n",
       "      <th>3</th>\n",
       "      <td>2022-09-21 01:03:00</td>\n",
       "      <td>romand</td>\n",
       "      <td>Glasting Water Tint</td>\n",
       "      <td>#08 Rose Stream</td>\n",
       "      <td>NaN</td>\n",
       "      <td>Yesstyle</td>\n",
       "      <td>8.40</td>\n",
       "    </tr>\n",
       "    <tr>\n",
       "      <th>4</th>\n",
       "      <td>2022-09-21 01:03:00</td>\n",
       "      <td>romand</td>\n",
       "      <td>Glasting Water Tint</td>\n",
       "      <td>#05 Rose Splash</td>\n",
       "      <td>NaN</td>\n",
       "      <td>Yesstyle</td>\n",
       "      <td>8.40</td>\n",
       "    </tr>\n",
       "  </tbody>\n",
       "</table>\n",
       "</div>"
      ],
      "text/plain": [
       "                 Date    Brand                              Product Name  \\\n",
       "0 2022-09-21 00:00:00  romand                        Han All Fix Mascara   \n",
       "1 2022-09-21 00:00:00    AMUSE                                  Dew Tint   \n",
       "2 2022-09-21 01:03:00     CLIO  Sharp, So Simple Waterproof Pencil Liner   \n",
       "3 2022-09-21 01:03:00  romand                        Glasting Water Tint   \n",
       "4 2022-09-21 01:03:00  romand                        Glasting Water Tint   \n",
       "\n",
       "             Color Size  Retailer  Price  \n",
       "0     L02 Long Ash  NaN  Yesstyle  10.70  \n",
       "1       #12 Sunday  NaN  Yesstyle  16.00  \n",
       "2        #02 Brown  NaN  Yesstyle   6.55  \n",
       "3  #08 Rose Stream  NaN  Yesstyle   8.40  \n",
       "4  #05 Rose Splash  NaN  Yesstyle   8.40  "
      ]
     },
     "metadata": {},
     "output_type": "display_data"
    },
    {
     "name": "stdout",
     "output_type": "stream",
     "text": [
      "Makeup has 26 missing values: \n",
      "Date             0\n",
      "Brand            0\n",
      "Product Name     0\n",
      "Color            4\n",
      "Size            21\n",
      "Retailer         1\n",
      "Price            0\n",
      "dtype: int64\n"
     ]
    }
   ],
   "source": [
    "sheetInfo(makeup)\n",
    "missingData(makeup)"
   ]
  },
  {
   "cell_type": "code",
   "execution_count": 31,
   "metadata": {},
   "outputs": [
    {
     "data": {
      "text/html": [
       "<div>\n",
       "<style scoped>\n",
       "    .dataframe tbody tr th:only-of-type {\n",
       "        vertical-align: middle;\n",
       "    }\n",
       "\n",
       "    .dataframe tbody tr th {\n",
       "        vertical-align: top;\n",
       "    }\n",
       "\n",
       "    .dataframe thead th {\n",
       "        text-align: right;\n",
       "    }\n",
       "</style>\n",
       "<table border=\"1\" class=\"dataframe\">\n",
       "  <thead>\n",
       "    <tr style=\"text-align: right;\">\n",
       "      <th></th>\n",
       "      <th>Date</th>\n",
       "      <th>Brand</th>\n",
       "      <th>Product Name</th>\n",
       "      <th>Color</th>\n",
       "      <th>Size</th>\n",
       "      <th>Retailer</th>\n",
       "      <th>Price</th>\n",
       "    </tr>\n",
       "  </thead>\n",
       "  <tbody>\n",
       "  </tbody>\n",
       "</table>\n",
       "</div>"
      ],
      "text/plain": [
       "Empty DataFrame\n",
       "Columns: [Date, Brand, Product Name, Color, Size, Retailer, Price]\n",
       "Index: []"
      ]
     },
     "metadata": {},
     "output_type": "display_data"
    },
    {
     "name": "stdout",
     "output_type": "stream",
     "text": [
      "Makeup has 25 missing values: \n",
      "Date             0\n",
      "Brand            0\n",
      "Product Name     0\n",
      "Color            4\n",
      "Size            21\n",
      "Retailer         0\n",
      "Price            0\n",
      "dtype: int64\n"
     ]
    }
   ],
   "source": [
    "# print(makeup.query('Retailer == \"NaN\"'))\n",
    "display(makeup[makeup['Retailer'].isnull()])\n",
    "\n",
    "makeup['Retailer'].fillna('Amazon', inplace=True) # Fill missing values with 'Amazon'\n",
    "# alternative codes: makeup.fillna({'Retailer': 'Amazon'}, inplace=True)\n",
    "\n",
    "missingData(makeup, 'Retailer') # Check if missing values are filled"
   ]
  },
  {
   "cell_type": "code",
   "execution_count": 28,
   "metadata": {},
   "outputs": [
    {
     "name": "stdout",
     "output_type": "stream",
     "text": [
      "Start Date: 2022-09-21 00:00:00\n"
     ]
    }
   ],
   "source": [
    "# startD = min(makeup['Date']) \n",
    "\n",
    "# if startD <= min(skincare['Date']) and startD <= min(haircare['Date']):\n",
    "#     print(f'Start Date: {startD}')\n",
    "# elif startD > min(skincare['Date']):\n",
    "#     startD = min(skincare['Date'])\n",
    "#     if startD <= min(haircare['Date']):\n",
    "#         print(f'Start Date: {startD}')\n",
    "#     else:\n",
    "#         startD = min(haircare['Date'])\n",
    "#         print(f'Start Date: {startD}')"
   ]
  },
  {
   "cell_type": "code",
   "execution_count": 29,
   "metadata": {},
   "outputs": [
    {
     "name": "stdout",
     "output_type": "stream",
     "text": [
      "End Date: 2024-11-16 00:00:00\n"
     ]
    }
   ],
   "source": [
    "# endD = max(makeup['Date'])\n",
    "\n",
    "# if endD >= max(skincare['Date']) and endD >= max(haircare['Date']):\n",
    "#     print(f'End Date: {endD}')\n",
    "# elif endD < max(skincare['Date']):\n",
    "#     endD = max(skincare['Date'])\n",
    "#     if endD >=max(haircare['Date']):\n",
    "#         print(f'End Date: {endD}')\n",
    "#     else:\n",
    "#         endD = max(haircare['Date'])\n",
    "#         print(f'End Date: {endD}')"
   ]
  },
  {
   "cell_type": "code",
   "execution_count": 27,
   "metadata": {},
   "outputs": [
    {
     "name": "stdout",
     "output_type": "stream",
     "text": [
      "Total amount spent on Yesstyle Between 2022-09-21 00:00:00 and 2024-11-16 00:00:00: $445.18\n"
     ]
    }
   ],
   "source": [
    "\n",
    "# print(f'Total amount spent on Yesstyle Between {startD} and {endD}: ${sum(makeup['Price']) + sum(skincare['Price']) + sum(haircare['Price'])}')"
   ]
  },
  {
   "cell_type": "code",
   "execution_count": null,
   "metadata": {},
   "outputs": [],
   "source": []
  }
 ],
 "metadata": {
  "kernelspec": {
   "display_name": "DataScienceStudy",
   "language": "python",
   "name": "python3"
  },
  "language_info": {
   "codemirror_mode": {
    "name": "ipython",
    "version": 3
   },
   "file_extension": ".py",
   "mimetype": "text/x-python",
   "name": "python",
   "nbconvert_exporter": "python",
   "pygments_lexer": "ipython3",
   "version": "3.12.2"
  }
 },
 "nbformat": 4,
 "nbformat_minor": 2
}
